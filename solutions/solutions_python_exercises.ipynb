{
 "cells": [
  {
   "cell_type": "markdown",
   "metadata": {},
   "source": [
    "# Exercise 1"
   ]
  },
  {
   "cell_type": "code",
   "execution_count": 1,
   "metadata": {},
   "outputs": [],
   "source": [
    "def get_alphabet_dictionary():\n",
    "    \"\"\"\n",
    "    Creates a dictionary which associates each letter of the alphabeth to a numerical value.\n",
    "    :return: the dictionary created.\n",
    "    \"\"\"\n",
    "    d = {'a': 1, 'b': 2, 'c': 3, 'd': 4, 'e': 5, 'f': 6, 'g': 7, 'h': 8,\n",
    "             'i': 9, 'j': 10, 'k': 11, 'l': 12, 'm': 13, 'n': 14, 'o': 15, 'p': 16, 'q': 17,\n",
    "             'r': 18, 's': 19, 't': 20, 'u': 21, 'v': 22, 'w': 23, 'x': 24, 'y': 25, 'z': 26\n",
    "             }\n",
    "    return d"
   ]
  },
  {
   "cell_type": "markdown",
   "metadata": {},
   "source": [
    "# Exercise 2"
   ]
  },
  {
   "cell_type": "code",
   "execution_count": 2,
   "metadata": {},
   "outputs": [
    {
     "name": "stdout",
     "output_type": "stream",
     "text": [
      "11518"
     ]
    }
   ],
   "source": [
    "def get_code(s:str):\n",
    "    \"\"\"\n",
    "    Given a string it returns a numerical code obtained by associating a numerical value to each letter.\n",
    "    :param s: the string\n",
    "    \"\"\"\n",
    "    d = get_alphabet_dictionary()\n",
    "    for i in s:\n",
    "        print(d[i.lower()],end='')\n",
    "\n",
    "# Example of usage\n",
    "get_code(\"AOR\")"
   ]
  },
  {
   "cell_type": "markdown",
   "metadata": {},
   "source": [
    "# Exercise 3"
   ]
  },
  {
   "cell_type": "code",
   "execution_count": 4,
   "metadata": {},
   "outputs": [
    {
     "name": "stdout",
     "output_type": "stream",
     "text": [
      "[1, 15, 18]\n"
     ]
    }
   ],
   "source": [
    "def get_code_list(s:str):\n",
    "    \"\"\"\n",
    "    Given a string returns a list which contains the numerical code for each character in the string.\n",
    "    :return: list\n",
    "    \"\"\"\n",
    "    d = get_alphabet_dictionary()\n",
    "    l = [d[i.lower()] for i in s]\n",
    "    return l\n",
    "\n",
    "# Example of usage\n",
    "print(get_code_list(\"AOR\"))"
   ]
  },
  {
   "cell_type": "markdown",
   "metadata": {},
   "source": [
    "# Exercise 4"
   ]
  },
  {
   "cell_type": "code",
   "execution_count": 5,
   "metadata": {},
   "outputs": [
    {
     "name": "stdout",
     "output_type": "stream",
     "text": [
      "9 25\n"
     ]
    }
   ],
   "source": [
    "def get_squared_codes(d:dict):\n",
    "    \"\"\"\n",
    "    Given the dictionary created in Exercise 1, it creates and returns a similar dictionary but this time it includes the squared value of the character.\n",
    "    :return: dict\n",
    "    \"\"\"\n",
    "    squared_dict = {l : d[l] ** 2 for l in d}\n",
    "    return squared_dict\n",
    "\n",
    "# Example of usage\n",
    "original_dict = get_alphabet_dictionary()\n",
    "squared_dict = get_squared_codes(original_dict)\n",
    "print(squared_dict['c'], squared_dict['e'])"
   ]
  },
  {
   "cell_type": "markdown",
   "metadata": {},
   "source": [
    "# Exercise 5"
   ]
  },
  {
   "cell_type": "code",
   "execution_count": 9,
   "metadata": {},
   "outputs": [
    {
     "name": "stdout",
     "output_type": "stream",
     "text": [
      "[(1, 2), (1, 3), (1, 4), (1, 5), (2, 1), (2, 3), (2, 4), (2, 5), (3, 1), (3, 2), (3, 4), (3, 5), (4, 1), (4, 2), (4, 3), (4, 5), (5, 1), (5, 2), (5, 3), (5, 4)]\n"
     ]
    }
   ],
   "source": [
    "def generate_arcs(n_nodes:int):\n",
    "    '''\n",
    "    Generates and returns the list of arcs as tuples.\n",
    "    '''\n",
    "    arcs =[(i,j) for i in range(1,n_nodes+1) for j in range(1,n_nodes+1) if i != j]\n",
    "    return arcs\n",
    "\n",
    "arcs = generate_arcs(5)\n",
    "print(arcs)"
   ]
  },
  {
   "cell_type": "markdown",
   "metadata": {},
   "source": [
    "# Exercise 6"
   ]
  },
  {
   "cell_type": "code",
   "execution_count": 11,
   "metadata": {},
   "outputs": [
    {
     "name": "stdout",
     "output_type": "stream",
     "text": [
      "[(1, 3), (1, 5), (2, 4), (3, 1), (3, 5), (4, 2), (5, 1), (5, 3)]\n"
     ]
    }
   ],
   "source": [
    "def generate_arcs(n_nodes:int):\n",
    "    '''\n",
    "    Generates and returns the list of arcs as tuples.\n",
    "    '''\n",
    "    arcs =[(i,j) for i in range(1,n_nodes+1) for j in range(1,n_nodes+1) if (i != j and i%2 == 0 and j%2 ==0) or (i != j and i%2 != 0 and j%2 !=0)]\n",
    "    return arcs\n",
    "\n",
    "arcs = generate_arcs(5)\n",
    "print(arcs)\n"
   ]
  },
  {
   "cell_type": "markdown",
   "metadata": {},
   "source": [
    "# Exercise 7"
   ]
  },
  {
   "cell_type": "code",
   "execution_count": 18,
   "metadata": {},
   "outputs": [
    {
     "name": "stdout",
     "output_type": "stream",
     "text": [
      "Perimeter =  12\n",
      "Area =  8\n",
      "After scaling\n",
      "Perimeter =  20\n",
      "Area =  16\n"
     ]
    }
   ],
   "source": [
    "class Rectangle:\n",
    "    \n",
    "    # Constructor\n",
    "    def __init__(self,length:float, height:float):\n",
    "        self.length = length\n",
    "        self.height = height\n",
    "    \n",
    "    def get_perimeter(self):\n",
    "        return 2 * self.length + 2 * self.height\n",
    "    \n",
    "    def get_area(self):\n",
    "        return self.length * self.height\n",
    "    \n",
    "    def scale(self,scalar:float):\n",
    "        self.length = self.length * scalar\n",
    "        self.eight = self.height * scalar\n",
    "        \n",
    "\n",
    "# Class usage\n",
    "r = Rectangle(4,2)\n",
    "print('Perimeter = ', r.get_perimeter())\n",
    "print('Area = ',r.get_area())\n",
    "r.scale(2)\n",
    "print(\"After scaling\")\n",
    "print('Perimeter = ', r.get_perimeter())\n",
    "print('Area = ',r.get_area())"
   ]
  },
  {
   "cell_type": "markdown",
   "metadata": {},
   "source": [
    "# Exercise 8"
   ]
  },
  {
   "cell_type": "code",
   "execution_count": 17,
   "metadata": {},
   "outputs": [
    {
     "name": "stdout",
     "output_type": "stream",
     "text": [
      "Circumference =  18.84955592153876\n",
      "Area =  28.274333882308138\n",
      "After scaling\n",
      "Circumference =  37.69911184307752\n",
      "Area =  113.09733552923255\n"
     ]
    }
   ],
   "source": [
    "import math\n",
    "class Circle:\n",
    "    # The constant PI is the same for all circles, so we define it as a class variable\n",
    "    PI = math.pi\n",
    "    \n",
    "    # Constructor\n",
    "    def __init__(self,radius:float):\n",
    "        self.radius = radius\n",
    "    \n",
    "    def get_circumference(self):\n",
    "        return 2 * self.PI * self.radius\n",
    "    \n",
    "    def get_area(self):\n",
    "        return self.PI * (self.radius ** 2)\n",
    "    \n",
    "    def scale(self,scalar:float):\n",
    "        self.radius = self.radius * scalar\n",
    "        \n",
    "\n",
    "# Class usage\n",
    "c = Circle(3)\n",
    "print('Circumference = ', c.get_circumference())\n",
    "print('Area = ',c.get_area())\n",
    "c.scale(2)\n",
    "print(\"After scaling\")\n",
    "print('Circumference = ', c.get_circumference())\n",
    "print('Area = ',c.get_area())"
   ]
  },
  {
   "cell_type": "code",
   "execution_count": null,
   "metadata": {},
   "outputs": [],
   "source": []
  }
 ],
 "metadata": {
  "kernelspec": {
   "display_name": "Python 3",
   "language": "python",
   "name": "python3"
  },
  "language_info": {
   "codemirror_mode": {
    "name": "ipython",
    "version": 3
   },
   "file_extension": ".py",
   "mimetype": "text/x-python",
   "name": "python",
   "nbconvert_exporter": "python",
   "pygments_lexer": "ipython3",
   "version": "3.7.3"
  }
 },
 "nbformat": 4,
 "nbformat_minor": 2
}

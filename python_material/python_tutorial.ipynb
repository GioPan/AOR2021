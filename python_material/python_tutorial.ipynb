{
 "cells": [
  {
   "cell_type": "markdown",
   "metadata": {},
   "source": [
    "# Python in general\n",
    "\n",
    "Python is a high-level programming language that allows you to express very powerful ideas in very few, readable, lines of code. It is one of the [top three most used programming languages](https://www.tiobe.com/tiobe-index/), competing with classical languages such as Java, C and C++. Besides being a great general-purpose programming language, thanks to a few popular libraries (e.g., pandas, numpy, scipy, matplotlib) Python has become a powerful environment for scientific computing."
   ]
  },
  {
   "cell_type": "markdown",
   "metadata": {},
   "source": [
    "# Python in this course\n",
    "\n",
    "In this course we will use the Python programming language for interacting with the solver Gurobi in ordert to model and solve optimization problems. We expect that many of you will have some experience with Python (e.g., have taken [Introduction to numerical analysis](https://kurser.ku.dk/course/nmaa09005u) or similar); for the rest of you, this section will serve as a quick crash course (recommended also if you are already familiar with Python). Besides this document, you should look at the [official tutorial](https://docs.python.org/3.7/tutorial/index.html) for exploring more than what you see here, and clarifying your doubts.\n"
   ]
  },
  {
   "cell_type": "markdown",
   "metadata": {},
   "source": [
    "## Python versions and installation\n",
    "\n",
    "You will currently find two different versions of Python available, 2.7 and 3.x (3.7 at the time of writing). This is due to the fact that Python 3.0 introduced many changes to the language that are incompatible with previous versions. That is, code written for Python 2.7 may not work under Python 3.x (and the other way around). For this reason, both versions are currently around. For this course we will use Python 3.7. So, make sure you have Python 3.7 or later installed. [Here](https://docs.python.org/3/using/index.html) you find precise installation instructions for your specific operating system.\n",
    "\n",
    "## A note on the Anaconda Python distribution\n",
    "In this course we use the Python libraries of the solver Gurobi. In the Gurobi documentation you will [read](https://www.gurobi.com/documentation/8.1/quickstart_mac/installing_the_anaconda_py.html#section:Anaconda) that they advise using the [Anaconda Python distribution](https://docs.anaconda.com/anaconda/install/). Anaconda Python is a distribution of Python bundled with several of the most common scientific computing packages. Installing Anaconda Python is not necessary, especially if you have already Python on your machine. It just simplifies a bit the way we include Gurobi in our Python projects, but we can achieve the same results also without Anaconda."
   ]
  },
  {
   "cell_type": "markdown",
   "metadata": {},
   "source": [
    "## Virtual Environments\n",
    "\n",
    "It is good practice to use virtual environments to manage the version of the packages you use in your project.\n",
    "Read [this tutorial](https://docs.python.org/3/tutorial/venv.html) carefully for understanding how virtual environments are created in general and packages are added to them. However, PyCharm simplifies these steps such that you do not need to type those instructions on the command line: PyCharm does it for you. Nevertheless, it is important that you get an understanding of what PyCharm does behind the curtains. \n",
    "\n",
    "In general, if one does not use PyCharm (or any other IDE) the steps involved are the following:\n",
    "\n",
    "`cd yourWorkingDirector`  \n",
    "\n",
    "Move to the directory of your project\n",
    "\n",
    "`virtualenv -p python3 venv`     \n",
    "\n",
    "Create a virtual environment in a subfolder named venv using Python3 and the interpreter of your Python files. \n",
    "Using simply python (as below)\n",
    "\n",
    "`virtualenv -p python venv` \n",
    "\n",
    "will be interpreted as using Python 2.7 in most machines.\n",
    "\n",
    "`pip install package_name`\n",
    "\n",
    "Will install the package named `package_name` in your virtual environment. Finally,\n",
    "\n",
    "`source venv/bin/activate`   \n",
    "\n",
    "activates the virtual environment, meaning that when your python code is run it will find exactly the Python version and packages you have added to the virtual environment. Read further [here](https://docs.python.org/3/tutorial/venv.html)."
   ]
  },
  {
   "cell_type": "markdown",
   "metadata": {},
   "source": [
    "# The Python Language\n",
    "\n",
    "## Basic data types\n",
    "\n",
    "Similar to most programming languages, Python provides a number of basic data types. The most frequently used are integers, floats, booleans, and strings. If you learnt another programming language before such as Matlab or Java, these data types behave in a very similar way. However, unlike other programming languages, in Python you do not need to specify the type."
   ]
  },
  {
   "cell_type": "markdown",
   "metadata": {},
   "source": [
    "### Numbers: Integers and floats work intuitively\n",
    "\n",
    "Here are a few example of operations with numerical types. To investigate further read the [official documentation](https://docs.python.org/3.7/library/stdtypes.html#numeric-types-int-float-complex)."
   ]
  },
  {
   "cell_type": "code",
   "execution_count": 9,
   "metadata": {},
   "outputs": [
    {
     "name": "stdout",
     "output_type": "stream",
     "text": [
      "5\n",
      "<class 'int'>\n",
      "6\n",
      "4\n",
      "10\n",
      "2.5\n",
      "25\n",
      "6\n",
      "12\n",
      "<class 'float'>\n",
      "2.5 3.5 5.0 6.25\n"
     ]
    }
   ],
   "source": [
    "x = 5\n",
    "print(x)\n",
    "# Get the data type\n",
    "print(type(x))\n",
    "# Addition, subtraction, multiplication, division\n",
    "print(x + 1)\n",
    "print(x - 1)   \n",
    "print(x * 2)\n",
    "print(x / 2)\n",
    "# Power\n",
    "print(x ** 2)  \n",
    "# Unary operators\n",
    "# Changes the value stored in x to x+1\n",
    "x += 1\n",
    "print(x)  \n",
    "# Changes the value stored in x to x*2\n",
    "x *= 2\n",
    "print(x)\n",
    "\n",
    "# Floats\n",
    "y = 2.5\n",
    "print(type(y)) \n",
    "print(y, y + 1, y * 2, y ** 2) \n"
   ]
  },
  {
   "cell_type": "markdown",
   "metadata": {},
   "source": [
    "### Booleans\n",
    "\n",
    "Python makes available all of the usual operators for Boolean logic with convenient English words rather than symbols such as &&, ||, etc. Details [here](https://docs.python.org/3.7/library/stdtypes.html#boolean-operations-and-or-not)."
   ]
  },
  {
   "cell_type": "code",
   "execution_count": 2,
   "metadata": {},
   "outputs": [
    {
     "name": "stdout",
     "output_type": "stream",
     "text": [
      "<class 'bool'>\n",
      "False\n",
      "True\n",
      "False\n",
      "True\n",
      "True\n"
     ]
    }
   ],
   "source": [
    "t = True\n",
    "f = False\n",
    "# Check the variable type\n",
    "print(type(t)) \n",
    "print(t and f) \n",
    "print(t or f)  \n",
    "print(not t)\n",
    "\n",
    "# == stands for \"is equal to\". It checks whether the content of two variables is the same.\n",
    "print(t == True)\n",
    "# != stands for \"is not equal to\". It checks whether the content of two variables is different.\n",
    "print(t != f)  \n",
    "\n"
   ]
  },
  {
   "cell_type": "markdown",
   "metadata": {},
   "source": [
    "### Strings\n",
    "\n",
    "Python has many useful methods for strings. See much more [here](https://docs.python.org/3.7/library/stdtypes.html#text-sequence-type-str)."
   ]
  },
  {
   "cell_type": "code",
   "execution_count": 4,
   "metadata": {},
   "outputs": [
    {
     "name": "stdout",
     "output_type": "stream",
     "text": [
      "Operations\n",
      "<class 'str'>\n",
      "10\n",
      "Operations Research\n",
      "Applied Operations Research 2020\n",
      "Hello\n",
      "HELLO\n",
      "he(ell)(ell)o\n",
      "world\n",
      "O\n",
      "p\n",
      "e\n",
      "r\n",
      "a\n",
      "t\n",
      "i\n",
      "o\n",
      "n\n",
      "s\n",
      " \n",
      "R\n",
      "e\n",
      "s\n",
      "e\n",
      "a\n",
      "r\n",
      "c\n",
      "h\n"
     ]
    }
   ],
   "source": [
    "# Strings can be defined using single quotes or double quotes\n",
    "o = 'Operations'    \n",
    "r = \"Research\"\n",
    "print(o)       \n",
    "print(type(o))\n",
    "\n",
    "# String length\n",
    "print(len(o))\n",
    "\n",
    "# String concatenation\n",
    "OR = o + ' ' + r \n",
    "print(OR)\n",
    "\n",
    "# String formatting\n",
    "AOR = '%s %s %s %d' % ('Applied',o, r, 2020)  \n",
    "print(AOR)  \n",
    "\n",
    "s = 'hello'\n",
    "# Capitalize a string\n",
    "print(s.capitalize())\n",
    "# Convert to uppercase\n",
    "print(s.upper())\n",
    "# Replace a substring with another substring\n",
    "print(s.replace('l', '(ell)'))  \n",
    "# Stripts leading and trailing whitespaces\n",
    "print('  world '.strip())  \n",
    "\n",
    "# looping through strings\n",
    "for i in OR:\n",
    "    print(i)"
   ]
  },
  {
   "cell_type": "markdown",
   "metadata": {},
   "source": [
    "## Data containers\n",
    "\n",
    "Often we would like to store a collection of data rather than individual variables. Python offers several types of containers according to the specific need. "
   ]
  },
  {
   "cell_type": "markdown",
   "metadata": {},
   "source": [
    "### Lists\n",
    "\n",
    "Lists represent vectors of data. They are typically (but not necessarily) used to store homogeneous data. Unlike in other programming languages, Python lists may be resized. "
   ]
  },
  {
   "cell_type": "code",
   "execution_count": 15,
   "metadata": {},
   "outputs": [
    {
     "name": "stdout",
     "output_type": "stream",
     "text": [
      "[10, 21, 42]\n"
     ]
    }
   ],
   "source": [
    "l = [10, 21, 42]  \n",
    "print(l)"
   ]
  },
  {
   "cell_type": "markdown",
   "metadata": {},
   "source": [
    "List elements are accessed by their position. The first element is in position 0 and negative indices count from the end of the list."
   ]
  },
  {
   "cell_type": "code",
   "execution_count": 16,
   "metadata": {},
   "outputs": [
    {
     "name": "stdout",
     "output_type": "stream",
     "text": [
      "21 10\n",
      "42\n",
      "10\n"
     ]
    }
   ],
   "source": [
    "print(l[1],l[0])\n",
    "print(l[-1]) \n",
    "print(l[-3])"
   ]
  },
  {
   "cell_type": "markdown",
   "metadata": {},
   "source": [
    "Lists can contain elements of different types\n"
   ]
  },
  {
   "cell_type": "code",
   "execution_count": 17,
   "metadata": {},
   "outputs": [
    {
     "name": "stdout",
     "output_type": "stream",
     "text": [
      "[10, 21, 'OR']\n"
     ]
    }
   ],
   "source": [
    "l[2] = 'OR'     \n",
    "print(l)"
   ]
  },
  {
   "cell_type": "markdown",
   "metadata": {},
   "source": [
    "We can `append` new elements (i.e., add to the end of the list) and `pop` elements, i.e., remove and return the last element of the list\n"
   ]
  },
  {
   "cell_type": "code",
   "execution_count": 18,
   "metadata": {},
   "outputs": [
    {
     "name": "stdout",
     "output_type": "stream",
     "text": [
      "[10, 21, 'OR', 'AOR']\n",
      "AOR\n",
      "[10, 21, 'OR']\n"
     ]
    }
   ],
   "source": [
    "l.append('AOR')  \n",
    "print(l)\n",
    "x = l.pop()      \n",
    "print(x)\n",
    "print(l)"
   ]
  },
  {
   "cell_type": "markdown",
   "metadata": {},
   "source": [
    "A `range` can be used to create lists (see more https://docs.python.org/3.7/library/stdtypes.html#ranges).\n",
    "A range of $n$ will consists of the integers from $0$ to $n-1$. We can also specify the first and last number and the increment."
   ]
  },
  {
   "cell_type": "code",
   "execution_count": 19,
   "metadata": {},
   "outputs": [
    {
     "name": "stdout",
     "output_type": "stream",
     "text": [
      "[0, 1, 2, 3, 4, 5, 6, 7, 8, 9]\n",
      "[1, 2, 3, 4, 5]\n",
      "[1, 3, 5, 7, 9]\n"
     ]
    }
   ],
   "source": [
    "numbers_from_0_to_9 = list(range(10)) \n",
    "print(numbers_from_0_to_9)\n",
    "numbers_from_1_to_5 = list(range(1,6)) \n",
    "print(numbers_from_1_to_5)\n",
    "numbers_from_1_to_10 = list(range(1,10,2)) \n",
    "print(numbers_from_1_to_10)"
   ]
  },
  {
   "cell_type": "markdown",
   "metadata": {},
   "source": [
    "You can`slice` lists i.e., extract a sublist. "
   ]
  },
  {
   "cell_type": "code",
   "execution_count": 20,
   "metadata": {},
   "outputs": [
    {
     "name": "stdout",
     "output_type": "stream",
     "text": [
      "[0, 1, 2, 3, 4]\n",
      "[2, 3]\n",
      "[2, 3, 4]\n",
      "[0, 1]\n",
      "[0, 1, 2, 3, 4]\n",
      "[0, 1, 2, 3]\n",
      "[0, 1, 8, 9, 4]\n"
     ]
    }
   ],
   "source": [
    "nums = list(range(5))     \n",
    "print(nums)\n",
    "# Get a slice from position 2 (inclusive) to 4 (exclusive)\n",
    "print(nums[2:4])          \n",
    "# Get a slice from index 2 to the end\n",
    "print(nums[2:])           \n",
    "# Get a slice from the start to index 2 (exclusive)\n",
    "print(nums[:2])          \n",
    "# Get a slice of the whole list\n",
    "print(nums[:])            \n",
    "# Slice indices can be negative (remember that negative indices count from the end of the list)\n",
    "print(nums[:-1])         \n",
    "# Assign a new sublist to a slice\n",
    "nums[2:4] = [8, 9]        \n",
    "print(nums)   "
   ]
  },
  {
   "cell_type": "markdown",
   "metadata": {},
   "source": [
    "You can loop over lists"
   ]
  },
  {
   "cell_type": "code",
   "execution_count": 5,
   "metadata": {},
   "outputs": [
    {
     "name": "stdout",
     "output_type": "stream",
     "text": [
      "cat\n",
      "dog\n",
      "monkey\n",
      "#0: cat\n",
      "#1: dog\n",
      "#2: monkey\n"
     ]
    }
   ],
   "source": [
    "animals = ['cat', 'dog', 'monkey']\n",
    "for animal in animals:\n",
    "    print(animal)\n",
    "    \n",
    "# If you also want to access the index of the elements\n",
    "for idx, animal in enumerate(animals):\n",
    "    print('#%d: %s' % (idx, animal))"
   ]
  },
  {
   "cell_type": "markdown",
   "metadata": {},
   "source": [
    "You can check if a list contains an element using the keyword `in`"
   ]
  },
  {
   "cell_type": "code",
   "execution_count": 8,
   "metadata": {},
   "outputs": [
    {
     "name": "stdout",
     "output_type": "stream",
     "text": [
      "True\n",
      "False\n",
      "False\n"
     ]
    }
   ],
   "source": [
    "print('cat' in animals)\n",
    "print('tiger' in animals)\n",
    "print('dog' not in animals)"
   ]
  },
  {
   "cell_type": "markdown",
   "metadata": {},
   "source": [
    "When programming, frequently we want to transform one type of data into another. **List comprehension** provides a shorthand for this kind of tasks. As a simple example, the following code provides two equivalent ways (without and with list comprehension) of computing the square of the numbers in an existing list:"
   ]
  },
  {
   "cell_type": "code",
   "execution_count": 7,
   "metadata": {},
   "outputs": [
    {
     "name": "stdout",
     "output_type": "stream",
     "text": [
      "[0, 1, 4, 9, 16]\n",
      "[0, 1, 4, 9, 16]\n",
      "[0, 4, 16]\n"
     ]
    }
   ],
   "source": [
    "nums = [0, 1, 2, 3, 4]\n",
    "squaresA = []\n",
    "\n",
    "# Without list comprehension\n",
    "for x in nums:\n",
    "    squaresA.append(x ** 2)\n",
    "print(squaresA) \n",
    "\n",
    "# With list comprehension\n",
    "squaresB = [x ** 2 for x in nums]\n",
    "print(squaresB)\n",
    "\n",
    "# With conditions (only the square of even numbers)\n",
    "even_squares = [x ** 2 for x in nums if x % 2 == 0]\n",
    "print(even_squares)"
   ]
  },
  {
   "cell_type": "markdown",
   "metadata": {},
   "source": [
    "### Dictionaries\n",
    "\n",
    "A [dictionary](https://docs.python.org/3.7/library/stdtypes.html#mapping-types-dict) stores key-value pairs. You can use it like this:"
   ]
  },
  {
   "cell_type": "code",
   "execution_count": 8,
   "metadata": {},
   "outputs": [
    {
     "name": "stdout",
     "output_type": "stream",
     "text": [
      "10\n",
      "False\n",
      "True\n",
      "40\n",
      "True\n"
     ]
    }
   ],
   "source": [
    "# Create a new dictionary with some data\n",
    "d = {'A': 10, 'B': 20}  \n",
    "# Get an entry from a dictionary\n",
    "print(d['A'])       \n",
    "# Check if a dictionary has a given key\n",
    "print('cat' in d)     \n",
    "print('A' in d)\n",
    "# Set an entry in a dictionary\n",
    "d['C'] = '40'     \n",
    "print(d['C'])\n",
    "# Remove an element from a dictionary\n",
    "del d['A'] \n",
    "\n",
    "# Dictionaries can be created in a few alternative ways\n",
    "a = dict(one=1, two=2, three=3)\n",
    "b = {'one': 1, 'two': 2, 'three': 3}\n",
    "c = dict([('two', 2), ('one', 1), ('three', 3)])\n",
    "d = dict({'three': 3, 'one': 1, 'two': 2})\n",
    "# Check that they are identical\n",
    "print(a == b == c == d)"
   ]
  },
  {
   "cell_type": "markdown",
   "metadata": {},
   "source": [
    "You can iterate over the keys in a dictionary:"
   ]
  },
  {
   "cell_type": "code",
   "execution_count": 22,
   "metadata": {},
   "outputs": [
    {
     "name": "stdout",
     "output_type": "stream",
     "text": [
      "A person has 2 legs\n",
      "A cat has 4 legs\n",
      "A spider has 8 legs\n"
     ]
    }
   ],
   "source": [
    "d = {'person': 2, 'cat': 4, 'spider': 8}\n",
    "for animal in d:\n",
    "    legs = d[animal]\n",
    "    print('A %s has %d legs' % (animal, legs))"
   ]
  },
  {
   "cell_type": "markdown",
   "metadata": {},
   "source": [
    "If you want access to keys and their corresponding values, use the items method:"
   ]
  },
  {
   "cell_type": "code",
   "execution_count": 10,
   "metadata": {},
   "outputs": [
    {
     "name": "stdout",
     "output_type": "stream",
     "text": [
      "A person has 2 legs\n",
      "A cat has 4 legs\n",
      "A spider has 8 legs\n"
     ]
    }
   ],
   "source": [
    "d = {'person': 2, 'cat': 4, 'spider': 8}\n",
    "for animal, legs in d.items():\n",
    "    print('A %s has %d legs' % (animal, legs))"
   ]
  },
  {
   "cell_type": "markdown",
   "metadata": {},
   "source": [
    "Comprehensions allows you to easily construct dictionaries. The following code will create a dictionary that stores, for each number, its square, but only for the even numbers."
   ]
  },
  {
   "cell_type": "code",
   "execution_count": 11,
   "metadata": {},
   "outputs": [
    {
     "name": "stdout",
     "output_type": "stream",
     "text": [
      "{0: 0, 2: 4, 4: 16}\n"
     ]
    }
   ],
   "source": [
    "nums = [0, 1, 2, 3, 4]\n",
    "even_num_to_square = {x: x ** 2 for x in nums if x % 2 == 0}\n",
    "print(even_num_to_square) "
   ]
  },
  {
   "cell_type": "markdown",
   "metadata": {},
   "source": [
    "### Sets\n",
    "\n",
    "A set is an unordered collection of distinct elements. "
   ]
  },
  {
   "cell_type": "code",
   "execution_count": 15,
   "metadata": {},
   "outputs": [
    {
     "name": "stdout",
     "output_type": "stream",
     "text": [
      "{'cat', 'dog'}\n"
     ]
    }
   ],
   "source": [
    "animals = {'cat', 'dog'}\n",
    "print(animals)"
   ]
  },
  {
   "cell_type": "markdown",
   "metadata": {},
   "source": [
    "Check if an element is in a set"
   ]
  },
  {
   "cell_type": "code",
   "execution_count": 16,
   "metadata": {},
   "outputs": [
    {
     "name": "stdout",
     "output_type": "stream",
     "text": [
      "True\n",
      "False\n"
     ]
    }
   ],
   "source": [
    "print('cat' in animals)   \n",
    "print('fish' in animals)"
   ]
  },
  {
   "cell_type": "markdown",
   "metadata": {},
   "source": [
    "Number of elements in a set"
   ]
  },
  {
   "cell_type": "code",
   "execution_count": 17,
   "metadata": {},
   "outputs": [
    {
     "name": "stdout",
     "output_type": "stream",
     "text": [
      "2\n"
     ]
    }
   ],
   "source": [
    "print(len(animals))"
   ]
  },
  {
   "cell_type": "markdown",
   "metadata": {},
   "source": [
    "Add an element to a set (adding an element that is already in the set does nothing)"
   ]
  },
  {
   "cell_type": "code",
   "execution_count": 18,
   "metadata": {},
   "outputs": [
    {
     "name": "stdout",
     "output_type": "stream",
     "text": [
      "True\n",
      "{'fish', 'cat', 'dog'}\n",
      "3\n"
     ]
    }
   ],
   "source": [
    "animals.add('fish')       \n",
    "print('fish' in animals)  \n",
    "animals.add('cat') \n",
    "print(animals)\n",
    "print(len(animals))  "
   ]
  },
  {
   "cell_type": "markdown",
   "metadata": {},
   "source": [
    "Remove an element from a set"
   ]
  },
  {
   "cell_type": "code",
   "execution_count": 19,
   "metadata": {},
   "outputs": [
    {
     "name": "stdout",
     "output_type": "stream",
     "text": [
      "2\n",
      "{'fish', 'dog'}\n"
     ]
    }
   ],
   "source": [
    "animals.remove('cat')     \n",
    "print(len(animals))\n",
    "print(animals)"
   ]
  },
  {
   "cell_type": "markdown",
   "metadata": {},
   "source": [
    "Iterating over a set has the same syntax as iterating over a list; however since sets are unordered, you cannot make assumptions about the order in which you visit the elements of the set:"
   ]
  },
  {
   "cell_type": "code",
   "execution_count": 22,
   "metadata": {},
   "outputs": [
    {
     "name": "stdout",
     "output_type": "stream",
     "text": [
      "#1: fish\n",
      "#2: cat\n",
      "#3: dog\n"
     ]
    }
   ],
   "source": [
    "animals = {'cat', 'dog', 'fish'}\n",
    "for idx, animal in enumerate(animals):\n",
    "    print('#%d: %s' % (idx + 1, animal))"
   ]
  },
  {
   "cell_type": "markdown",
   "metadata": {},
   "source": [
    "Like lists and dictionaries, we can easily construct sets using set comprehensions:"
   ]
  },
  {
   "cell_type": "code",
   "execution_count": 23,
   "metadata": {},
   "outputs": [
    {
     "name": "stdout",
     "output_type": "stream",
     "text": [
      "{0, 1, 64, 4, 36, 9, 16, 49, 81, 25}\n"
     ]
    }
   ],
   "source": [
    "# We create a set of square numbers\n",
    "nums = {x*x for x in range(10)}\n",
    "print(nums)  \n",
    "# All the squares from 0^2 to 9^2 are there, but unordered"
   ]
  },
  {
   "cell_type": "markdown",
   "metadata": {},
   "source": [
    "### Tuples\n",
    "\n",
    "A tuple is an ordered list of values. A tuple is in many ways similar to a list; one of the most important differences is that tuples can be used as keys in dictionaries and as elements of sets, while lists cannot. However, tuples are *immutable*: you can't change which variables they contain after construction. Here is a trivial example:"
   ]
  },
  {
   "cell_type": "code",
   "execution_count": 25,
   "metadata": {},
   "outputs": [
    {
     "name": "stdout",
     "output_type": "stream",
     "text": [
      "<class 'tuple'>\n",
      "(5, 6)\n"
     ]
    }
   ],
   "source": [
    "# Creates a tuple\n",
    "t = (5, 6)        \n",
    "print(type(t)) \n",
    "print(t)"
   ]
  },
  {
   "cell_type": "markdown",
   "metadata": {},
   "source": [
    "Create a dictionary with tuple keys. The dict has keys $(x,x+1)$ and value $x$, that is $\\{(0,1):1, (1,2):1, \\ldots\\}$"
   ]
  },
  {
   "cell_type": "code",
   "execution_count": 26,
   "metadata": {},
   "outputs": [
    {
     "name": "stdout",
     "output_type": "stream",
     "text": [
      "{(0, 1): 0, (1, 2): 1, (2, 3): 2, (3, 4): 3, (4, 5): 4, (5, 6): 5, (6, 7): 6, (7, 8): 7, (8, 9): 8, (9, 10): 9}\n",
      "5\n",
      "1\n"
     ]
    }
   ],
   "source": [
    "d = {(x, x + 1): x for x in range(10)} \n",
    "print(d)\n",
    "print(d[t])       \n",
    "print(d[(1, 2)])  "
   ]
  },
  {
   "cell_type": "markdown",
   "metadata": {},
   "source": [
    "## Functions\n",
    "\n",
    "Python functions are defined using the `def` keyword. For example:"
   ]
  },
  {
   "cell_type": "code",
   "execution_count": 12,
   "metadata": {},
   "outputs": [
    {
     "name": "stdout",
     "output_type": "stream",
     "text": [
      "negative\n",
      "zero\n",
      "positive\n"
     ]
    }
   ],
   "source": [
    "def sign(x):\n",
    "    if x > 0:\n",
    "        return 'positive'\n",
    "    elif x < 0:\n",
    "        return 'negative'\n",
    "    else:\n",
    "        return 'zero'\n",
    "\n",
    "for x in [-1, 0, 1]:\n",
    "    print(sign(x))"
   ]
  },
  {
   "cell_type": "markdown",
   "metadata": {},
   "source": [
    "Functions can take optional arguments. In the following example the argument `name` is required but the argument `loud` is optional: if we pass only the name, `loud` is set by default to `False`."
   ]
  },
  {
   "cell_type": "code",
   "execution_count": 27,
   "metadata": {},
   "outputs": [
    {
     "name": "stdout",
     "output_type": "stream",
     "text": [
      "Hello, Operations\n",
      "HELLO, RESEARCH!\n"
     ]
    }
   ],
   "source": [
    "def hello(name, loud=False):\n",
    "    '''\n",
    "    Prints hello to the given name, in upper-case if it should be loud.\n",
    "    If nothing is passed for the loud argument, it will (arbitrarily) default to false.\n",
    "    '''\n",
    "    if loud:\n",
    "        print('HELLO, %s!' % name.upper())\n",
    "    else:\n",
    "        print('Hello, %s' % name)\n",
    "\n",
    "# Test with the function\n",
    "hello('Operations') \n",
    "hello('Research', loud=True)  "
   ]
  },
  {
   "cell_type": "markdown",
   "metadata": {},
   "source": [
    "## Classes\n",
    "\n",
    "A class provide a means for creating a new type of object and allowing new instances of that type to be made. An object is an abstract representation, in our code, of a real-life *object*, such as a car, a bus, a desk, a dog, a person. The syntax for defining classes in Python is straightforward. A Python class has typically two ingredients: one or more constructors and (typically many) instance methods. Read more on the [official documentation](https://docs.python.org/3.7/tutorial/classes.html#classes)."
   ]
  },
  {
   "cell_type": "code",
   "execution_count": 29,
   "metadata": {},
   "outputs": [],
   "source": [
    "class Dog:\n",
    "    \n",
    "    # Creates a class variable.\n",
    "    # Class variables are for attributes and methods shared by all instances of the class, \n",
    "    # i.e., all dogs will be canine. We arbitrality use capital letters for class variables to distinguish them from\n",
    "    # instance variables.\n",
    "    KIND = 'Canine'\n",
    "    \n",
    "    # Constructor. A constructor is the method that should be called to create an instance of the class.\n",
    "    def __init__(self, name):\n",
    "        '''\n",
    "        Builds an instance of the class dog, given the dog's name.\n",
    "        '''\n",
    "        # Creates an instance variable.\n",
    "        # Instance variables are for data unique to each instance,\n",
    "        # i.e., each dog has its own name.\n",
    "        # Notice how the variable name is associated to self, which represents the specific object.\n",
    "        self.name = name  \n",
    "\n",
    "    # Instance method\n",
    "    def bark(self, loud=False):\n",
    "        '''\n",
    "        Barks its name, possibly loud. \n",
    "        '''\n",
    "        # Note how the method retrieves the name from self.\n",
    "        if loud:\n",
    "            print('Woof woof, %s!' % self.name.upper())\n",
    "        else:\n",
    "            print('Woof woof, %s' % self.name)\n"
   ]
  },
  {
   "cell_type": "markdown",
   "metadata": {},
   "source": [
    "We can now construct instances of the Dog class. Let us contruct two instances, one representing a dog named Pluto the other a dog named Mars."
   ]
  },
  {
   "cell_type": "code",
   "execution_count": 33,
   "metadata": {},
   "outputs": [
    {
     "name": "stdout",
     "output_type": "stream",
     "text": [
      "Woof woof, Pluto\n",
      "Woof woof, MARS!\n",
      "Pluto\n",
      "Mars\n",
      "Canine\n",
      "Canine\n"
     ]
    }
   ],
   "source": [
    "d1 = Dog('Pluto')  \n",
    "d2 = Dog('Mars')\n",
    "# How to call an instance method\n",
    "d1.bark()          \n",
    "d2.bark(True)\n",
    "# How to access instance data\n",
    "print(d1.name)\n",
    "print(d2.name)\n",
    "# How to access class data\n",
    "print(d1.KIND)\n",
    "print(d2.KIND)"
   ]
  },
  {
   "cell_type": "markdown",
   "metadata": {},
   "source": [
    "We can also change class and instance data"
   ]
  },
  {
   "cell_type": "code",
   "execution_count": 40,
   "metadata": {},
   "outputs": [
    {
     "name": "stdout",
     "output_type": "stream",
     "text": [
      "BigPluto\n",
      "NONE\n",
      "BIRD\n"
     ]
    }
   ],
   "source": [
    "d1.name = 'BigPluto'\n",
    "print(d1.name)\n",
    "# We change the class data KIND acting directly on the class\n",
    "Dog.KIND = 'BIRD'\n",
    "# And we see that KIND has changed for all instances: now d1 and d2 (and all new instances we will create) are birds.\n",
    "print(d1.KIND)\n",
    "print(d2.KIND)"
   ]
  },
  {
   "cell_type": "markdown",
   "metadata": {},
   "source": [
    "Read more about classes [here](https://docs.python.org/3.7/tutorial/classes.html#a-first-look-at-classes), particularly the difference between [*class variables* and *instance variables*](https://docs.python.org/3.7/tutorial/classes.html#class-and-instance-variables)."
   ]
  },
  {
   "cell_type": "markdown",
   "metadata": {},
   "source": [
    "## Reading and writing files\n",
    "Reading from files (e.g., reading input data), and writing to files (e.g., printing results) is a very common task when dealing with optimization problems. This topic is thoroughly explained in the [Python documentation](https://docs.python.org/3/tutorial/inputoutput.html#reading-and-writing-files). We report a quick summary.\n",
    "\n",
    "In order to interact with a file we use the function `open()`, which takes as arguments a file name and the mode of interaction (e.g., read or write). If the mode of interaction is not passed, the file is open to be read. It returns a [`file`](https://docs.python.org/3/tutorial/inputoutput.html#methods-of-file-objects) object, which represents a file on your machine. By interacting with the file object you can read and write files.\n",
    "\n",
    "The file [input_file.txt](./input_file.txt) is stored in the same directory as the python file that reads the input file. Assume it describes a number of geometrical figures, namely rectangles and circles. \n",
    "The first line reports the number of rectangles and circles respectively. Then, for each rectangle it reports a line with width and length. Following, for every line it reports the ray of each circle."
   ]
  },
  {
   "cell_type": "code",
   "execution_count": null,
   "metadata": {},
   "outputs": [],
   "source": [
    "# File input_file.txt\n",
    "4 3\n",
    "10 20 \n",
    "11 21 \n",
    "12 22 \n",
    "13 23 \n",
    "110\n",
    "120\n",
    "210"
   ]
  },
  {
   "cell_type": "markdown",
   "metadata": {},
   "source": [
    "We read the file as follows"
   ]
  },
  {
   "cell_type": "code",
   "execution_count": 8,
   "metadata": {},
   "outputs": [
    {
     "name": "stdout",
     "output_type": "stream",
     "text": [
      "4 3\n",
      "10 20\n",
      "11 21\n",
      "12 22\n",
      "13 23 \n",
      "110\n",
      "120\n",
      "210\n"
     ]
    }
   ],
   "source": [
    "with open(\"input_file.txt\") as f:\n",
    "    print(f.read())\n",
    "    # Always close the file after reading or writing"
   ]
  },
  {
   "cell_type": "markdown",
   "metadata": {},
   "source": [
    "Reading the entire file is not very useful. Let us read it line by line:"
   ]
  },
  {
   "cell_type": "code",
   "execution_count": 4,
   "metadata": {},
   "outputs": [
    {
     "name": "stdout",
     "output_type": "stream",
     "text": [
      "1  ->  4 3\n",
      "\n",
      "2  ->  10 20\n",
      "\n",
      "3  ->  11 21\n",
      "\n",
      "4  ->  12 22\n",
      "\n",
      "5  ->  13 23 \n",
      "\n",
      "6  ->  110\n",
      "\n",
      "7  ->  120\n",
      "\n",
      "8  ->  210\n"
     ]
    }
   ],
   "source": [
    "with open(\"input_file.txt\") as f:\n",
    "    line_number = 0\n",
    "    for l in f:\n",
    "        line_number = line_number +1\n",
    "        print(line_number, \" -> \",l)"
   ]
  },
  {
   "cell_type": "markdown",
   "metadata": {},
   "source": [
    "We might want to read each number separately. In this case we use the method `split()`."
   ]
  },
  {
   "cell_type": "code",
   "execution_count": 10,
   "metadata": {},
   "outputs": [
    {
     "name": "stdout",
     "output_type": "stream",
     "text": [
      "4 3\n"
     ]
    }
   ],
   "source": [
    "with open(\"input_file.txt\") as f:\n",
    "    # We take the number of rectancles and circles from the firstline\n",
    "    n_rectangles, n_circles = (int(n) for n in f.readline().split())\n",
    "    print(n_rectangles,n_circles)"
   ]
  },
  {
   "cell_type": "markdown",
   "metadata": {},
   "source": [
    "Let us now complete the example by reading each rectangle and circle."
   ]
  },
  {
   "cell_type": "code",
   "execution_count": 13,
   "metadata": {},
   "outputs": [
    {
     "name": "stdout",
     "output_type": "stream",
     "text": [
      "4 3\n",
      "Rectancle  1  width  10.0  length  20.0\n",
      "Rectancle  2  width  11.0  length  21.0\n",
      "Rectancle  3  width  12.0  length  22.0\n",
      "Rectancle  4  width  13.0  length  23.0\n",
      "Circle  1  radius  110.0\n",
      "Circle  2  radius  120.0\n",
      "Circle  3  radius  210.0\n"
     ]
    }
   ],
   "source": [
    "with open(\"input_file.txt\") as f:\n",
    "    # We take the number of rectancles and circles from the firstline\n",
    "    n_rectangles, n_circles = (int(n) for n in f.readline().split())\n",
    "    print(n_rectangles,n_circles)\n",
    "    \n",
    "    for r in range(n_rectangles):\n",
    "        w,l = (float(n) for n in f.readline().split())\n",
    "        print(\"Rectancle \",r+1, \" width \",w,\" length \",l)\n",
    "    for c in range(n_circles):\n",
    "        r = float(f.readline()) ## Here we do not need to split the line as there is only one number\n",
    "        print(\"Circle \",c+1, \" radius \",r)"
   ]
  },
  {
   "cell_type": "markdown",
   "metadata": {},
   "source": [
    "Let us now write to a file. Assume we have a number of rectangles and for each of them we print the dimensions and area."
   ]
  },
  {
   "cell_type": "code",
   "execution_count": 2,
   "metadata": {},
   "outputs": [],
   "source": [
    "# This dictionary stores, for each rectangle, width and length as [width,length]\n",
    "rectangles = {\"A\":[2,5],\"B\":[4,3],\"C\":[10,7],\"D\":[5,8],\"E\":[9,12]}\n",
    "with open(\"output_file.txt\",\"w\") as f:\n",
    "    # First we print the header of the file\n",
    "    f.write(\"%12s %12s %12s %12s\\n\" % (\"RectangleId\",\"Width\",\"Length\",\"Area\"))\n",
    "    for r in rectangles:\n",
    "        w = rectangles[r][0]\n",
    "        l = rectangles[r][1]\n",
    "        area = w * l\n",
    "        f.write(\"%12s %12.2f %12.2f %12.2f\\n\" % (r,w,l,area))"
   ]
  },
  {
   "cell_type": "markdown",
   "metadata": {},
   "source": [
    "This code will create the file [`output_file.txt`](./output_file.txt) in the same directory of the Python file. It looks like this"
   ]
  },
  {
   "cell_type": "code",
   "execution_count": null,
   "metadata": {},
   "outputs": [],
   "source": [
    " RectangleId        Width       Length         Area\n",
    "           A         2.00         5.00        10.00\n",
    "           B         4.00         3.00        12.00\n",
    "           C        10.00         7.00        70.00\n",
    "           D         5.00         8.00        40.00\n",
    "           E         9.00        12.00       108.00"
   ]
  }
 ],
 "metadata": {
  "kernelspec": {
   "display_name": "Python 3",
   "language": "python",
   "name": "python3"
  },
  "language_info": {
   "codemirror_mode": {
    "name": "ipython",
    "version": 3
   },
   "file_extension": ".py",
   "mimetype": "text/x-python",
   "name": "python",
   "nbconvert_exporter": "python",
   "pygments_lexer": "ipython3",
   "version": "3.7.3"
  }
 },
 "nbformat": 4,
 "nbformat_minor": 2
}

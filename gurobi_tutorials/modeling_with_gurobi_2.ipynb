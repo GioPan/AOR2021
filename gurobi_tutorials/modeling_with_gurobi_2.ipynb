{
 "cells": [
  {
   "cell_type": "markdown",
   "metadata": {},
   "source": [
    "# Modeling with Gurobi -- Large Scale Problems\n",
    "\n",
    "In the first tutorial you have seen the basics of the interaction with Gurobi. We will now look at more realistic interactions such as creating multidimensional and sparse arrays of variables and constraints. Gurobi provides specialized data structures to efficiently handle these situations. Before moving further into this tutorial please go back to the [Python tutorial](../python_tutorial.ipynb) and refresh your mind on *lists*, *dictionaries*, *tuples* and *comprehension*."
   ]
  },
  {
   "cell_type": "markdown",
   "metadata": {},
   "source": [
    "## Adding several decision variables\n",
    "\n",
    "In the first tutorial we have seen that we can add one decision variable to the model using the [method `addVar`](https://www.gurobi.com/documentation/9.0/refman/py_model_addvar.html) of the class `Model`. If we had several variables of the same type we could of course call the `addVar` method several times to create the each individual variable. For example, let $x_i$ for $i=1,\\ldots,N$ be binary variables we wish to add to our model. One possibility is the following"
   ]
  },
  {
   "cell_type": "code",
   "execution_count": 2,
   "metadata": {},
   "outputs": [
    {
     "name": "stdout",
     "output_type": "stream",
     "text": [
      "Academic license - for non-commercial use only\n",
      "<gurobi.Model MIP instance our_model: 0 constrs, 100 vars, Parameter changes: LogFile=gurobi.log, CSIdleTimeout=1800>\n"
     ]
    }
   ],
   "source": [
    "from gurobipy import *\n",
    "N = 100\n",
    "m = Model('our_model')\n",
    "for i in range(N):\n",
    "    m.addVar(vtype=GRB.BINARY,name = \"x_\"+str(i))\n",
    "m.update()\n",
    "print(m)"
   ]
  },
  {
   "cell_type": "markdown",
   "metadata": {},
   "source": [
    "This way of adding decision variables is, however, inefficient. In the [details of the class `Model`](https://www.gurobi.com/documentation/9.0/refman/py_model.html) you will notice that the class `Model` has also a [method `addVars`](https://www.gurobi.com/documentation/9.0/refman/py_model_addvars.html) (notice the plural in Var**s**). This method, which permits to add several decision variables to the model, is defined as follows.\n",
    "\n",
    "`addVars ( *indices, lb=0.0, ub=GRB.INFINITY, obj=0.0, vtype=GRB.CONTINUOUS, name=\"\" )`\n",
    "\n",
    "It is very similar to the `addVar` method, but it takes as first argument the indices of the decision variables. The indices can be specified in different ways, as we will shortly see. \n",
    "\n",
    "### Specifying the dimensions of the variables\n",
    "\n",
    "The simplest way of specifying the indexes is to provide one or more integers which indicate each dimension. \n",
    "As an example, we could add the $x_i$ variables introduced above as follows"
   ]
  },
  {
   "cell_type": "code",
   "execution_count": 3,
   "metadata": {},
   "outputs": [
    {
     "name": "stdout",
     "output_type": "stream",
     "text": [
      "<gurobi.Model MIP instance our_model: 0 constrs, 100 vars, Parameter changes: LogFile=gurobi.log, CSIdleTimeout=1800>\n"
     ]
    }
   ],
   "source": [
    "m = Model('our_model')\n",
    "N = 100\n",
    "x = m.addVars(N,vtype=GRB.BINARY,name = \"x\")\n",
    "m.update()\n",
    "print(m)"
   ]
  },
  {
   "cell_type": "markdown",
   "metadata": {},
   "source": [
    "If we print $x$ we will see a dictionary which has the indices as keys and the variables as values.\n",
    "In this way we can access each individual variable as with an ordinary dictionary. More precisely, it is a special dictionary provided by Gurobi and named **tupledict**, which we will introduce later."
   ]
  },
  {
   "cell_type": "code",
   "execution_count": 9,
   "metadata": {},
   "outputs": [
    {
     "name": "stdout",
     "output_type": "stream",
     "text": [
      "{0: <gurobi.Var x[0]>, 1: <gurobi.Var x[1]>, 2: <gurobi.Var x[2]>, 3: <gurobi.Var x[3]>, 4: <gurobi.Var x[4]>, 5: <gurobi.Var x[5]>, 6: <gurobi.Var x[6]>, 7: <gurobi.Var x[7]>, 8: <gurobi.Var x[8]>, 9: <gurobi.Var x[9]>, 10: <gurobi.Var x[10]>, 11: <gurobi.Var x[11]>, 12: <gurobi.Var x[12]>, 13: <gurobi.Var x[13]>, 14: <gurobi.Var x[14]>, 15: <gurobi.Var x[15]>, 16: <gurobi.Var x[16]>, 17: <gurobi.Var x[17]>, 18: <gurobi.Var x[18]>, 19: <gurobi.Var x[19]>, 20: <gurobi.Var x[20]>, 21: <gurobi.Var x[21]>, 22: <gurobi.Var x[22]>, 23: <gurobi.Var x[23]>, 24: <gurobi.Var x[24]>, 25: <gurobi.Var x[25]>, 26: <gurobi.Var x[26]>, 27: <gurobi.Var x[27]>, 28: <gurobi.Var x[28]>, 29: <gurobi.Var x[29]>, 30: <gurobi.Var x[30]>, 31: <gurobi.Var x[31]>, 32: <gurobi.Var x[32]>, 33: <gurobi.Var x[33]>, 34: <gurobi.Var x[34]>, 35: <gurobi.Var x[35]>, 36: <gurobi.Var x[36]>, 37: <gurobi.Var x[37]>, 38: <gurobi.Var x[38]>, 39: <gurobi.Var x[39]>, 40: <gurobi.Var x[40]>, 41: <gurobi.Var x[41]>, 42: <gurobi.Var x[42]>, 43: <gurobi.Var x[43]>, 44: <gurobi.Var x[44]>, 45: <gurobi.Var x[45]>, 46: <gurobi.Var x[46]>, 47: <gurobi.Var x[47]>, 48: <gurobi.Var x[48]>, 49: <gurobi.Var x[49]>, 50: <gurobi.Var x[50]>, 51: <gurobi.Var x[51]>, 52: <gurobi.Var x[52]>, 53: <gurobi.Var x[53]>, 54: <gurobi.Var x[54]>, 55: <gurobi.Var x[55]>, 56: <gurobi.Var x[56]>, 57: <gurobi.Var x[57]>, 58: <gurobi.Var x[58]>, 59: <gurobi.Var x[59]>, 60: <gurobi.Var x[60]>, 61: <gurobi.Var x[61]>, 62: <gurobi.Var x[62]>, 63: <gurobi.Var x[63]>, 64: <gurobi.Var x[64]>, 65: <gurobi.Var x[65]>, 66: <gurobi.Var x[66]>, 67: <gurobi.Var x[67]>, 68: <gurobi.Var x[68]>, 69: <gurobi.Var x[69]>, 70: <gurobi.Var x[70]>, 71: <gurobi.Var x[71]>, 72: <gurobi.Var x[72]>, 73: <gurobi.Var x[73]>, 74: <gurobi.Var x[74]>, 75: <gurobi.Var x[75]>, 76: <gurobi.Var x[76]>, 77: <gurobi.Var x[77]>, 78: <gurobi.Var x[78]>, 79: <gurobi.Var x[79]>, 80: <gurobi.Var x[80]>, 81: <gurobi.Var x[81]>, 82: <gurobi.Var x[82]>, 83: <gurobi.Var x[83]>, 84: <gurobi.Var x[84]>, 85: <gurobi.Var x[85]>, 86: <gurobi.Var x[86]>, 87: <gurobi.Var x[87]>, 88: <gurobi.Var x[88]>, 89: <gurobi.Var x[89]>, 90: <gurobi.Var x[90]>, 91: <gurobi.Var x[91]>, 92: <gurobi.Var x[92]>, 93: <gurobi.Var x[93]>, 94: <gurobi.Var x[94]>, 95: <gurobi.Var x[95]>, 96: <gurobi.Var x[96]>, 97: <gurobi.Var x[97]>, 98: <gurobi.Var x[98]>, 99: <gurobi.Var x[99]>}\n",
      "<gurobi.Var x[0]>\n",
      "<gurobi.Var x[10]>\n"
     ]
    }
   ],
   "source": [
    "print(x)\n",
    "print(x[0]) # The first decision variable\n",
    "print(x[10]) # The tenth decision variable"
   ]
  },
  {
   "cell_type": "markdown",
   "metadata": {},
   "source": [
    "Of course, in the same way we can create variables with multiple dimensions. For example, let $y_{ijk}$ be a continuous variable, with $i=1,\\ldots,5$, $j=1,\\ldots,3$ and $k=1,\\ldots,2$"
   ]
  },
  {
   "cell_type": "code",
   "execution_count": 13,
   "metadata": {},
   "outputs": [
    {
     "name": "stdout",
     "output_type": "stream",
     "text": [
      "{(0, 0, 0): <gurobi.Var y[0,0,0]>, (0, 0, 1): <gurobi.Var y[0,0,1]>, (0, 1, 0): <gurobi.Var y[0,1,0]>, (0, 1, 1): <gurobi.Var y[0,1,1]>, (0, 2, 0): <gurobi.Var y[0,2,0]>, (0, 2, 1): <gurobi.Var y[0,2,1]>, (1, 0, 0): <gurobi.Var y[1,0,0]>, (1, 0, 1): <gurobi.Var y[1,0,1]>, (1, 1, 0): <gurobi.Var y[1,1,0]>, (1, 1, 1): <gurobi.Var y[1,1,1]>, (1, 2, 0): <gurobi.Var y[1,2,0]>, (1, 2, 1): <gurobi.Var y[1,2,1]>, (2, 0, 0): <gurobi.Var y[2,0,0]>, (2, 0, 1): <gurobi.Var y[2,0,1]>, (2, 1, 0): <gurobi.Var y[2,1,0]>, (2, 1, 1): <gurobi.Var y[2,1,1]>, (2, 2, 0): <gurobi.Var y[2,2,0]>, (2, 2, 1): <gurobi.Var y[2,2,1]>, (3, 0, 0): <gurobi.Var y[3,0,0]>, (3, 0, 1): <gurobi.Var y[3,0,1]>, (3, 1, 0): <gurobi.Var y[3,1,0]>, (3, 1, 1): <gurobi.Var y[3,1,1]>, (3, 2, 0): <gurobi.Var y[3,2,0]>, (3, 2, 1): <gurobi.Var y[3,2,1]>, (4, 0, 0): <gurobi.Var y[4,0,0]>, (4, 0, 1): <gurobi.Var y[4,0,1]>, (4, 1, 0): <gurobi.Var y[4,1,0]>, (4, 1, 1): <gurobi.Var y[4,1,1]>, (4, 2, 0): <gurobi.Var y[4,2,0]>, (4, 2, 1): <gurobi.Var y[4,2,1]>}\n",
      "<gurobi.Var y[0,2,1]>\n"
     ]
    }
   ],
   "source": [
    "y = m.addVars(5,3,2,name = \"y\")\n",
    "m.update()\n",
    "print(y)\n",
    "print(y[0,2,1]) # Print y_1,3,2"
   ]
  },
  {
   "cell_type": "markdown",
   "metadata": {},
   "source": [
    "### Specifying indices as lists\n",
    "\n",
    "Another possibility is that of **providing the indices as lists**. For example, consider a decision variable $x_{ij}$ which indicates the amount shipped from city $i$ to warehouse $j$. Given the list of cities and warehouses we can add variables for each pair city-warehouse as follows"
   ]
  },
  {
   "cell_type": "code",
   "execution_count": 7,
   "metadata": {},
   "outputs": [
    {
     "name": "stdout",
     "output_type": "stream",
     "text": [
      "<gurobi.Model Continuous instance our_model: 0 constrs, 12 vars, Parameter changes: LogFile=gurobi.log, CSIdleTimeout=1800>\n"
     ]
    }
   ],
   "source": [
    "m = Model('our_model')\n",
    "cities = ['CPH','AAR','ALB','ODE']\n",
    "warehouses = [1,2,3] \n",
    "x = m.addVars(cities,warehouses,name = \"x\")\n",
    "m.update()\n",
    "print(m)"
   ]
  },
  {
   "cell_type": "code",
   "execution_count": 9,
   "metadata": {},
   "outputs": [
    {
     "name": "stdout",
     "output_type": "stream",
     "text": [
      "{('CPH', 1): <gurobi.Var x[CPH,1]>, ('CPH', 2): <gurobi.Var x[CPH,2]>, ('CPH', 3): <gurobi.Var x[CPH,3]>, ('AAR', 1): <gurobi.Var x[AAR,1]>, ('AAR', 2): <gurobi.Var x[AAR,2]>, ('AAR', 3): <gurobi.Var x[AAR,3]>, ('ALB', 1): <gurobi.Var x[ALB,1]>, ('ALB', 2): <gurobi.Var x[ALB,2]>, ('ALB', 3): <gurobi.Var x[ALB,3]>, ('ODE', 1): <gurobi.Var x[ODE,1]>, ('ODE', 2): <gurobi.Var x[ODE,2]>, ('ODE', 3): <gurobi.Var x[ODE,3]>}\n",
      "<gurobi.Var x[CPH,2]>\n",
      "<gurobi.Var x[ALB,3]>\n",
      "<gurobi.Var x[CPH,2]>\n",
      "<gurobi.Var x[ALB,3]>\n"
     ]
    }
   ],
   "source": [
    "print(x)\n",
    "print(x['CPH',2])\n",
    "print(x['ALB',3])\n",
    "# Indices can also be passed as tuples (notice the extra parentheses)\n",
    "print(x[('CPH',2)])\n",
    "print(x[('ALB',3)])"
   ]
  },
  {
   "cell_type": "markdown",
   "metadata": {},
   "source": [
    "### Specifying indices as lists of tuples\n",
    "\n",
    "When the variables are specified only for selected tuples of indices, **indices can be provided as lists of tuples**.\n",
    "For example, assume in the previous example, no shipment can take place between Copenhagen and warehouse number 2, and between Århus and warehouse 1."
   ]
  },
  {
   "cell_type": "code",
   "execution_count": 10,
   "metadata": {},
   "outputs": [
    {
     "name": "stdout",
     "output_type": "stream",
     "text": [
      "<gurobi.Model Continuous instance our_model: 0 constrs, 10 vars, Parameter changes: LogFile=gurobi.log, CSIdleTimeout=1800>\n"
     ]
    }
   ],
   "source": [
    "m = Model('our_model')\n",
    "tuples = [('CPH',1),('CPH',3),('AAR',2),('AAR',3),('ALB',1),('ALB',2),('ALB',3),('ODE',1),('ODE',2),('ODE',3)]\n",
    "x = m.addVars(tuples,name = \"x\")\n",
    "m.update()\n",
    "print(m)"
   ]
  },
  {
   "cell_type": "code",
   "execution_count": 11,
   "metadata": {},
   "outputs": [
    {
     "name": "stdout",
     "output_type": "stream",
     "text": [
      "{('CPH', 1): <gurobi.Var x[CPH,1]>, ('CPH', 3): <gurobi.Var x[CPH,3]>, ('AAR', 2): <gurobi.Var x[AAR,2]>, ('AAR', 3): <gurobi.Var x[AAR,3]>, ('ALB', 1): <gurobi.Var x[ALB,1]>, ('ALB', 2): <gurobi.Var x[ALB,2]>, ('ALB', 3): <gurobi.Var x[ALB,3]>, ('ODE', 1): <gurobi.Var x[ODE,1]>, ('ODE', 2): <gurobi.Var x[ODE,2]>, ('ODE', 3): <gurobi.Var x[ODE,3]>}\n"
     ]
    }
   ],
   "source": [
    "print(x)"
   ]
  },
  {
   "cell_type": "markdown",
   "metadata": {},
   "source": [
    "This is applicable also when there are more than two indices as in "
   ]
  },
  {
   "cell_type": "code",
   "execution_count": 13,
   "metadata": {},
   "outputs": [
    {
     "name": "stdout",
     "output_type": "stream",
     "text": [
      "{('CPH', 1, 'A'): <gurobi.Var x[CPH,1,A]>, ('CPH', 3, 'B'): <gurobi.Var x[CPH,3,B]>, ('AAR', 2, 'A'): <gurobi.Var x[AAR,2,A]>, ('AAR', 3, 'C'): <gurobi.Var x[AAR,3,C]>}\n",
      "<gurobi.Var x[CPH,3,B]>\n"
     ]
    }
   ],
   "source": [
    "m = Model('our_model')\n",
    "tuples = [('CPH',1,\"A\"),('CPH',3,\"B\"),('AAR',2,\"A\"),('AAR',3,\"C\")]\n",
    "x = m.addVars(tuples,name = \"x\")\n",
    "m.update()\n",
    "print(x)\n",
    "print(x['CPH',3,'B'])"
   ]
  },
  {
   "cell_type": "markdown",
   "metadata": {},
   "source": [
    "But if we try to access `x` for a missing key, such as `('CPH',2,'B')`, we get an error"
   ]
  },
  {
   "cell_type": "code",
   "execution_count": 14,
   "metadata": {},
   "outputs": [
    {
     "ename": "KeyError",
     "evalue": "('CPH', 2, 'B')",
     "output_type": "error",
     "traceback": [
      "\u001b[0;31m---------------------------------------------------------------------------\u001b[0m",
      "\u001b[0;31mKeyError\u001b[0m                                  Traceback (most recent call last)",
      "\u001b[0;32m<ipython-input-14-ec3620ee4be2>\u001b[0m in \u001b[0;36m<module>\u001b[0;34m\u001b[0m\n\u001b[0;32m----> 1\u001b[0;31m \u001b[0mprint\u001b[0m\u001b[0;34m(\u001b[0m\u001b[0mx\u001b[0m\u001b[0;34m[\u001b[0m\u001b[0;34m'CPH'\u001b[0m\u001b[0;34m,\u001b[0m\u001b[0;36m2\u001b[0m\u001b[0;34m,\u001b[0m\u001b[0;34m'B'\u001b[0m\u001b[0;34m]\u001b[0m\u001b[0;34m)\u001b[0m\u001b[0;34m\u001b[0m\u001b[0;34m\u001b[0m\u001b[0m\n\u001b[0m",
      "\u001b[0;31mKeyError\u001b[0m: ('CPH', 2, 'B')"
     ]
    }
   ],
   "source": [
    "print(x['CPH',2,'B'])"
   ]
  },
  {
   "cell_type": "markdown",
   "metadata": {},
   "source": [
    "### A note on the variable's objective coefficient\n",
    "\n",
    "The methods `addVar` and `addVars` both allow specifying the objective coefficient of a decision variable when the decision variable is created through the argument `obj`. This can be done in several ways as explained [here](https://www.gurobi.com/documentation/9.0/refman/py_model_addvars.html). Nevertheless, for the sake of clarity, in this course we will always create the objective function separately. "
   ]
  },
  {
   "cell_type": "markdown",
   "metadata": {},
   "source": [
    "## Adding several constraints\n",
    "\n",
    "Very often, constrains have to be specified for a set of indices. Also in this case adding one constraint at a time using method `addConstr` is inefficient. Instead, Gurobi provides the [method `addConstrs`](https://www.gurobi.com/documentation/9.0/refman/py_model_addconstrs.html) (notice the pluaral). The method is specified as follows:\n",
    "\n",
    "`addConstrs ( generator, name=\"\" ) `\n",
    "\n",
    "The first argument is a *generator expression*. A generator expression is a Python construct that allows generating *Iterable* objects, that is objects that can be iterated over, such as lists. In our case, we will use generator expressions to build lists of constraints for each specified index. \n",
    "\n",
    "As an example, assume we have the following decision variables."
   ]
  },
  {
   "cell_type": "code",
   "execution_count": 27,
   "metadata": {},
   "outputs": [
    {
     "name": "stdout",
     "output_type": "stream",
     "text": [
      "<gurobi.Model Continuous instance our_model: 0 constrs, 4 vars, Parameter changes: LogFile=gurobi.log, CSIdleTimeout=1800>\n",
      "{'CPH': <gurobi.Var x[CPH]>, 'AAR': <gurobi.Var x[AAR]>, 'ALB': <gurobi.Var x[ALB]>, 'ODE': <gurobi.Var x[ODE]>}\n"
     ]
    }
   ],
   "source": [
    "m = Model('our_model')\n",
    "indices = ['CPH','AAR','ALB','ODE']\n",
    "x = m.addVars(indices,name = \"x\")\n",
    "m.update()\n",
    "print(m)\n",
    "print(x)"
   ]
  },
  {
   "cell_type": "markdown",
   "metadata": {},
   "source": [
    "For each of these variables we have an upper-bound (e.g., a maximum capacity) and we want to add constraints that set the bound on each of these variables. We do it as follows"
   ]
  },
  {
   "cell_type": "code",
   "execution_count": 28,
   "metadata": {},
   "outputs": [
    {
     "name": "stdout",
     "output_type": "stream",
     "text": [
      "<gurobi.Model Continuous instance our_model: 4 constrs, 4 vars, Parameter changes: LogFile=gurobi.log, CSIdleTimeout=1800>\n",
      "{'CPH': <gurobi.Constr R0>, 'AAR': <gurobi.Constr R1>, 'ALB': <gurobi.Constr R2>, 'ODE': <gurobi.Constr R3>}\n"
     ]
    }
   ],
   "source": [
    "upper_bound = {'CPH':10,'AAR':20,'ALB':50,'ODE':21}\n",
    "c = m.addConstrs((x[i] <= upper_bound[i] for i in indices))\n",
    "m.update()\n",
    "print(m)\n",
    "print(c)"
   ]
  },
  {
   "cell_type": "markdown",
   "metadata": {},
   "source": [
    "In this case the generator expression `(x[i] <= upper_bound[i] for i in indices)` generates a list of constraints of type $x_i \\leq upperbound_i$, one for each $i \\in indices$.\n",
    "\n",
    "The generator expression, which must always be provided in parentheses when specifying the name of the constraint, can be arbitrarily complex. It can, of course, include several decision variables"
   ]
  },
  {
   "cell_type": "code",
   "execution_count": 2,
   "metadata": {},
   "outputs": [
    {
     "name": "stdout",
     "output_type": "stream",
     "text": [
      "<gurobi.Model Continuous instance our_model: 12 constrs, 7 vars, Parameter changes: LogFile=gurobi.log, CSIdleTimeout=1800>\n"
     ]
    }
   ],
   "source": [
    "from gurobipy import *\n",
    "m = Model('our_model')\n",
    "# We create a dictionary of upper bounds and two sets of indices\n",
    "upper_bound = {'CPH':10,'AAR':20,'ALB':50,'ODE':21}\n",
    "cities_dk = ['CPH','AAR','ALB','ODE']\n",
    "cities_ud = ['STO','OSL','BER']\n",
    "# We create two sets of variables, namely x and y\n",
    "x = m.addVars(cities_dk,name = \"x\")\n",
    "y = m.addVars(cities_ud,name = \"y\")\n",
    "# We add constraints for each pair of indices, involving the two sets of variables\n",
    "m.addConstrs((x[i] - y[j] <= upper_bound[i] for i in cities_dk for j in cities_ud))\n",
    "m.update()\n",
    "print(m)"
   ]
  },
  {
   "cell_type": "markdown",
   "metadata": {},
   "source": [
    "as well as conditional statements over the indices."
   ]
  },
  {
   "cell_type": "code",
   "execution_count": 3,
   "metadata": {},
   "outputs": [
    {
     "name": "stdout",
     "output_type": "stream",
     "text": [
      "<gurobi.Model Continuous instance our_model: 18 constrs, 7 vars, Parameter changes: LogFile=gurobi.log, CSIdleTimeout=1800>\n",
      "{('AAR', 'OSL'): <gurobi.Constr R12>, ('AAR', 'BER'): <gurobi.Constr R13>, ('ALB', 'OSL'): <gurobi.Constr R14>, ('ALB', 'BER'): <gurobi.Constr R15>, ('ODE', 'OSL'): <gurobi.Constr R16>, ('ODE', 'BER'): <gurobi.Constr R17>}\n"
     ]
    }
   ],
   "source": [
    "# We add the following constraints for all pairs of cities excluding \"CPH\" and \"STO\"\n",
    "c = m.addConstrs((x[i] + y[j] >= 0 for i in cities_dk for j in cities_ud if (i != \"CPH\" and j != \"STO\")))\n",
    "m.update()\n",
    "print(m)\n",
    "print(c)"
   ]
  },
  {
   "cell_type": "markdown",
   "metadata": {},
   "source": [
    "Note that the condition on the indices is specified using the Python `if` statement. If more than one condition are imposed, they must be wrapped by parentheses, as in the example above, `if (condition1 and condition2 not condition3 ...)`."
   ]
  },
  {
   "cell_type": "markdown",
   "metadata": {},
   "source": [
    "Very often, the linear expression that make up constraints sum several decision variables. As an example we may wish to specify a bound on some weighed sum of the $x$ variables, such as $\\sum_{i\\in \\mathcal{I}}A_ix_i\\leq B$. If the set of $\\mathcal{I}$ is small enough, it can be done manually. However, if this set is large, e.g., with dozens of elements, writing this sum becomes impractical. To solve this problem, we can use two techniques: building one constraint, and its linear expression, at a time, or using Gurobi's [global function `quicksum`](https://www.gurobi.com/documentation/9.0/refman/py_quicksum.html)."
   ]
  },
  {
   "cell_type": "code",
   "execution_count": 3,
   "metadata": {},
   "outputs": [
    {
     "name": "stdout",
     "output_type": "stream",
     "text": [
      "<gurobi.Constr bound>\n",
      "<gurobi.Model Continuous instance our_model: 1 constrs, 100 vars, Parameter changes: LogFile=gurobi.log, CSIdleTimeout=1800>\n"
     ]
    }
   ],
   "source": [
    "from gurobipy import *\n",
    "m = Model('our_model')\n",
    "# We create a large set of indices and a dictionary of coefficients.\n",
    "I = range(100)\n",
    "A = {i: i**2 for i in I}\n",
    "B = 10200\n",
    "# We create x\n",
    "x = m.addVars(I,name = \"x\")\n",
    "# We add constraint by building its left-hand-side linear expression first\n",
    "lhs = 0\n",
    "for i in I:\n",
    "    lhs = lhs + A[i] * x[i]\n",
    "c = m.addConstr(lhs <= B, name = 'bound')\n",
    "m.update()\n",
    "print(c)\n",
    "print(m)"
   ]
  },
  {
   "cell_type": "markdown",
   "metadata": {},
   "source": [
    "The alternative way is to use `quicksum`. This function accepts a list of terms to add (such as linear expressions or decision variables) and returns a linear expression that sums all of them. For example"
   ]
  },
  {
   "cell_type": "code",
   "execution_count": 4,
   "metadata": {},
   "outputs": [
    {
     "name": "stdout",
     "output_type": "stream",
     "text": [
      "<gurobi.LinExpr: 2.0 x[0] + 20.0 x[10] + 5.0 x[7]>\n"
     ]
    }
   ],
   "source": [
    "list_of_terms = [2 * x[0],20 * x[10], 5 * x[7]]\n",
    "expr = quicksum(list_of_terms)\n",
    "print(expr)"
   ]
  },
  {
   "cell_type": "markdown",
   "metadata": {},
   "source": [
    "In general, it is convenient to build the list of terms using Python's list comprehension (see the Python tutorial if you have doubts). For example, we can create the same constraint as above as follows"
   ]
  },
  {
   "cell_type": "code",
   "execution_count": 5,
   "metadata": {},
   "outputs": [
    {
     "name": "stdout",
     "output_type": "stream",
     "text": [
      "[<gurobi.LinExpr: 0.0 x[0]>, <gurobi.LinExpr: x[1]>, <gurobi.LinExpr: 4.0 x[2]>, <gurobi.LinExpr: 9.0 x[3]>, <gurobi.LinExpr: 16.0 x[4]>, <gurobi.LinExpr: 25.0 x[5]>, <gurobi.LinExpr: 36.0 x[6]>, <gurobi.LinExpr: 49.0 x[7]>, <gurobi.LinExpr: 64.0 x[8]>, <gurobi.LinExpr: 81.0 x[9]>, <gurobi.LinExpr: 100.0 x[10]>, <gurobi.LinExpr: 121.0 x[11]>, <gurobi.LinExpr: 144.0 x[12]>, <gurobi.LinExpr: 169.0 x[13]>, <gurobi.LinExpr: 196.0 x[14]>, <gurobi.LinExpr: 225.0 x[15]>, <gurobi.LinExpr: 256.0 x[16]>, <gurobi.LinExpr: 289.0 x[17]>, <gurobi.LinExpr: 324.0 x[18]>, <gurobi.LinExpr: 361.0 x[19]>, <gurobi.LinExpr: 400.0 x[20]>, <gurobi.LinExpr: 441.0 x[21]>, <gurobi.LinExpr: 484.0 x[22]>, <gurobi.LinExpr: 529.0 x[23]>, <gurobi.LinExpr: 576.0 x[24]>, <gurobi.LinExpr: 625.0 x[25]>, <gurobi.LinExpr: 676.0 x[26]>, <gurobi.LinExpr: 729.0 x[27]>, <gurobi.LinExpr: 784.0 x[28]>, <gurobi.LinExpr: 841.0 x[29]>, <gurobi.LinExpr: 900.0 x[30]>, <gurobi.LinExpr: 961.0 x[31]>, <gurobi.LinExpr: 1024.0 x[32]>, <gurobi.LinExpr: 1089.0 x[33]>, <gurobi.LinExpr: 1156.0 x[34]>, <gurobi.LinExpr: 1225.0 x[35]>, <gurobi.LinExpr: 1296.0 x[36]>, <gurobi.LinExpr: 1369.0 x[37]>, <gurobi.LinExpr: 1444.0 x[38]>, <gurobi.LinExpr: 1521.0 x[39]>, <gurobi.LinExpr: 1600.0 x[40]>, <gurobi.LinExpr: 1681.0 x[41]>, <gurobi.LinExpr: 1764.0 x[42]>, <gurobi.LinExpr: 1849.0 x[43]>, <gurobi.LinExpr: 1936.0 x[44]>, <gurobi.LinExpr: 2025.0 x[45]>, <gurobi.LinExpr: 2116.0 x[46]>, <gurobi.LinExpr: 2209.0 x[47]>, <gurobi.LinExpr: 2304.0 x[48]>, <gurobi.LinExpr: 2401.0 x[49]>, <gurobi.LinExpr: 2500.0 x[50]>, <gurobi.LinExpr: 2601.0 x[51]>, <gurobi.LinExpr: 2704.0 x[52]>, <gurobi.LinExpr: 2809.0 x[53]>, <gurobi.LinExpr: 2916.0 x[54]>, <gurobi.LinExpr: 3025.0 x[55]>, <gurobi.LinExpr: 3136.0 x[56]>, <gurobi.LinExpr: 3249.0 x[57]>, <gurobi.LinExpr: 3364.0 x[58]>, <gurobi.LinExpr: 3481.0 x[59]>, <gurobi.LinExpr: 3600.0 x[60]>, <gurobi.LinExpr: 3721.0 x[61]>, <gurobi.LinExpr: 3844.0 x[62]>, <gurobi.LinExpr: 3969.0 x[63]>, <gurobi.LinExpr: 4096.0 x[64]>, <gurobi.LinExpr: 4225.0 x[65]>, <gurobi.LinExpr: 4356.0 x[66]>, <gurobi.LinExpr: 4489.0 x[67]>, <gurobi.LinExpr: 4624.0 x[68]>, <gurobi.LinExpr: 4761.0 x[69]>, <gurobi.LinExpr: 4900.0 x[70]>, <gurobi.LinExpr: 5041.0 x[71]>, <gurobi.LinExpr: 5184.0 x[72]>, <gurobi.LinExpr: 5329.0 x[73]>, <gurobi.LinExpr: 5476.0 x[74]>, <gurobi.LinExpr: 5625.0 x[75]>, <gurobi.LinExpr: 5776.0 x[76]>, <gurobi.LinExpr: 5929.0 x[77]>, <gurobi.LinExpr: 6084.0 x[78]>, <gurobi.LinExpr: 6241.0 x[79]>, <gurobi.LinExpr: 6400.0 x[80]>, <gurobi.LinExpr: 6561.0 x[81]>, <gurobi.LinExpr: 6724.0 x[82]>, <gurobi.LinExpr: 6889.0 x[83]>, <gurobi.LinExpr: 7056.0 x[84]>, <gurobi.LinExpr: 7225.0 x[85]>, <gurobi.LinExpr: 7396.0 x[86]>, <gurobi.LinExpr: 7569.0 x[87]>, <gurobi.LinExpr: 7744.0 x[88]>, <gurobi.LinExpr: 7921.0 x[89]>, <gurobi.LinExpr: 8100.0 x[90]>, <gurobi.LinExpr: 8281.0 x[91]>, <gurobi.LinExpr: 8464.0 x[92]>, <gurobi.LinExpr: 8649.0 x[93]>, <gurobi.LinExpr: 8836.0 x[94]>, <gurobi.LinExpr: 9025.0 x[95]>, <gurobi.LinExpr: 9216.0 x[96]>, <gurobi.LinExpr: 9409.0 x[97]>, <gurobi.LinExpr: 9604.0 x[98]>, <gurobi.LinExpr: 9801.0 x[99]>]\n",
      "<gurobi.Constr bound_2>\n",
      "<gurobi.Model Continuous instance our_model: 2 constrs, 100 vars, Parameter changes: LogFile=gurobi.log, CSIdleTimeout=1800>\n"
     ]
    }
   ],
   "source": [
    "terms = [A[i]*x[i] for i in I]\n",
    "print(terms)\n",
    "c = m.addConstr(quicksum(terms) <= B, name = 'bound_2')\n",
    "m.update()\n",
    "print(c)\n",
    "print(m)"
   ]
  },
  {
   "cell_type": "markdown",
   "metadata": {},
   "source": [
    "By incrementally building linear expressions or using `quicksum` it is possible to create generally complex expressions. In addition, Gurobi provides two useful classes named `tuplelist` and `tupledict` which can help us selecting specific decision variables and indices when building constraints."
   ]
  },
  {
   "cell_type": "markdown",
   "metadata": {},
   "source": [
    "## Gurobi `tuplelist`\n",
    "\n",
    "A Gurobi `tuplelist` is a *sub-class* of the Python list class, that is, it inherits all the functionalities of Python lists, and adds a few extra functionalities which can be quite useful in when building optimization models.  Particularly, when a `tuplelist` is populated with a list of tuples, the `select` method efficiently selects tuples whose values match specified values. You should familiarize with the documentation [here](https://www.gurobi.com/documentation/9.0/refman/py_tuplelist.html).\n",
    "\n",
    "One builds a `tuplelist` by passing a list of tuples"
   ]
  },
  {
   "cell_type": "code",
   "execution_count": 16,
   "metadata": {},
   "outputs": [
    {
     "name": "stdout",
     "output_type": "stream",
     "text": [
      "<gurobi.tuplelist (4 tuples, 2 values each):\n",
      " ( 1 , 2 )\n",
      " ( 1 , 3 )\n",
      " ( 2 , 3 )\n",
      " ( 2 , 4 )\n",
      ">\n"
     ]
    }
   ],
   "source": [
    "l = tuplelist([(1, 2), (1, 3), (2, 3), (2, 4)])\n",
    "print(l)"
   ]
  },
  {
   "cell_type": "markdown",
   "metadata": {},
   "source": [
    "Similarly to an ordinary list, you can for example append new tuples to the list and concatenate lists, as well as call the methods `append`, `extend`, `insert`, `pop`, and `remove`.\n"
   ]
  },
  {
   "cell_type": "code",
   "execution_count": 17,
   "metadata": {},
   "outputs": [
    {
     "name": "stdout",
     "output_type": "stream",
     "text": [
      "<gurobi.tuplelist (5 tuples, 2 values each):\n",
      " ( 1 , 2 )\n",
      " ( 1 , 3 )\n",
      " ( 2 , 3 )\n",
      " ( 2 , 4 )\n",
      " ( 3 , 4 )\n",
      ">\n"
     ]
    }
   ],
   "source": [
    "l.append((3,4))\n",
    "print(l)"
   ]
  },
  {
   "cell_type": "markdown",
   "metadata": {},
   "source": [
    "To access the members of a `tuplelist`, you also use standard list functions. For example, `l[0]` returns the first member of a tuplelist, while `l[0:3]` returns a `tuplelist` containing the first three members. You can also use `len(l)` to query the length of a list."
   ]
  },
  {
   "cell_type": "code",
   "execution_count": 19,
   "metadata": {},
   "outputs": [
    {
     "name": "stdout",
     "output_type": "stream",
     "text": [
      "(1, 2)\n",
      "[(1, 2), (1, 3), (2, 3)]\n",
      "5\n"
     ]
    }
   ],
   "source": [
    "print(l[0])\n",
    "print(l[0:3])\n",
    "print(len(l))"
   ]
  },
  {
   "cell_type": "markdown",
   "metadata": {},
   "source": [
    "Perhaps the most special feature of `tuplelist` is the `select` method which allows us to select a sub-list where particular tuple entries match desired values. The reference of the method is provided [here](https://www.gurobi.com/documentation/9.0/refman/py_tuplelist_select.html).\n",
    "One needs to pass to the select method the pattern that must be matched by the tuples to select. \n",
    "The pattern includes a value for each element of the tuples included in the list, thus the number of arguments to the `select` method is equal to the number of entries in the members of the `tuplelist`. A `'*'` string indicates that any value is acceptable.\n",
    "\n",
    "In the example above, `l` contains tuples with two entries, so we can select elements perform the following selections:"
   ]
  },
  {
   "cell_type": "code",
   "execution_count": 21,
   "metadata": {},
   "outputs": [
    {
     "name": "stdout",
     "output_type": "stream",
     "text": [
      "<gurobi.tuplelist (2 tuples, 2 values each):\n",
      " ( 1 , 2 )\n",
      " ( 1 , 3 )\n",
      ">\n",
      "<gurobi.tuplelist (2 tuples, 2 values each):\n",
      " ( 1 , 3 )\n",
      " ( 2 , 3 )\n",
      ">\n",
      "[]\n"
     ]
    }
   ],
   "source": [
    "# All tuples with 1 for the first element\n",
    "print(l.select(1,'*'))\n",
    "# All tuples with 3 as the second element\n",
    "print(l.select('*',3))\n",
    "# All tuples with 5 as the second element (none in this example)\n",
    "print(l.select('*',5))"
   ]
  },
  {
   "cell_type": "markdown",
   "metadata": {},
   "source": [
    "You can also provide a list argument to indicate that multiple values are acceptable for a given position in the tuple"
   ]
  },
  {
   "cell_type": "code",
   "execution_count": 22,
   "metadata": {},
   "outputs": [
    {
     "name": "stdout",
     "output_type": "stream",
     "text": [
      "<gurobi.tuplelist (4 tuples, 2 values each):\n",
      " ( 1 , 2 )\n",
      " ( 1 , 3 )\n",
      " ( 2 , 3 )\n",
      " ( 2 , 4 )\n",
      ">\n",
      "<gurobi.tuplelist (4 tuples, 2 values each):\n",
      " ( 1 , 3 )\n",
      " ( 2 , 3 )\n",
      " ( 2 , 4 )\n",
      " ( 3 , 4 )\n",
      ">\n"
     ]
    }
   ],
   "source": [
    "# All tuples with either 1 or 2 for the first element\n",
    "print(l.select([1,2],'*'))\n",
    "# All tuples with eith 3 or 4 as the second element\n",
    "print(l.select('*',[3,4]))"
   ]
  },
  {
   "cell_type": "markdown",
   "metadata": {},
   "source": [
    "Obviously, `tuplelists` can host tuples with more than two (not necessarily numerical) elements"
   ]
  },
  {
   "cell_type": "code",
   "execution_count": 23,
   "metadata": {},
   "outputs": [
    {
     "name": "stdout",
     "output_type": "stream",
     "text": [
      "<gurobi.tuplelist (4 tuples, 4 values each):\n",
      " ( 1 , 2 , a , k )\n",
      " ( 1 , 3 , b , k )\n",
      " ( 2 , 3 , n , z )\n",
      " ( 2 , 4 , m , z )\n",
      ">\n",
      "<gurobi.tuplelist (2 tuples, 4 values each):\n",
      " ( 2 , 3 , n , z )\n",
      " ( 2 , 4 , m , z )\n",
      ">\n",
      "<gurobi.tuplelist (2 tuples, 4 values each):\n",
      " ( 1 , 2 , a , k )\n",
      " ( 2 , 3 , n , z )\n",
      ">\n"
     ]
    }
   ],
   "source": [
    "l = tuplelist([(1, 2,'a','k'), (1, 3,'b','k'), (2, 3,'n','z'), (2, 4,'m','z')])\n",
    "print(l)\n",
    "print(l.select('*','*','*','z'))\n",
    "print(l.select('*','*',['a','n'],'*'))"
   ]
  },
  {
   "cell_type": "markdown",
   "metadata": {},
   "source": [
    "Gurobi `tuplelist`s can be very useful for creating spare arrays of variables and constraints. For example, we may want to create decision variables only for the tuples with 'a' or 'b' in the third position"
   ]
  },
  {
   "cell_type": "code",
   "execution_count": 30,
   "metadata": {},
   "outputs": [
    {
     "name": "stdout",
     "output_type": "stream",
     "text": [
      "<gurobi.Model Continuous instance our_model: 0 constrs, 2 vars, Parameter changes: LogFile=gurobi.log, CSIdleTimeout=1800>\n",
      "{(1, 2, 'a', 'k'): <gurobi.Var x[1,2,a,k]>, (1, 3, 'b', 'k'): <gurobi.Var x[1,3,b,k]>}\n"
     ]
    }
   ],
   "source": [
    "m = Model('our_model')\n",
    "x = m.addVars(l.select('*','*',['a','b'],'*'),name = \"x\")\n",
    "print(m)\n",
    "print(x)"
   ]
  },
  {
   "cell_type": "markdown",
   "metadata": {},
   "source": [
    "Note that we could achieve the same result using plain Python list comprehension"
   ]
  },
  {
   "cell_type": "code",
   "execution_count": 31,
   "metadata": {},
   "outputs": [
    {
     "name": "stdout",
     "output_type": "stream",
     "text": [
      "{(1, 2, 'a', 'k'): <gurobi.Var y[1,2,a,k]>, (1, 3, 'b', 'k'): <gurobi.Var y[1,3,b,k]>}\n"
     ]
    }
   ],
   "source": [
    "y = m.addVars([(i,j,n,m) for i,j,n,m in l if n in ['a','b']],name = \"y\")\n",
    "m.update()\n",
    "print(y)"
   ]
  },
  {
   "cell_type": "markdown",
   "metadata": {},
   "source": [
    "However, the latter statement considers every member in the list and then makes a selection based on the `if` statement, which can be quite inefficient for large lists. The select method, on the other hand, builds internal data structures that make these selections quite efficient."
   ]
  },
  {
   "cell_type": "markdown",
   "metadata": {},
   "source": [
    "Similarly, we can use `select` to specify for which elements one must create constraints"
   ]
  },
  {
   "cell_type": "code",
   "execution_count": 27,
   "metadata": {},
   "outputs": [
    {
     "name": "stdout",
     "output_type": "stream",
     "text": [
      "<gurobi.Model Continuous instance our_model: 2 constrs, 2 vars, Parameter changes: LogFile=gurobi.log, CSIdleTimeout=1800>\n",
      "{(1, 2, 'a', 'k'): <gurobi.Constr R0>, (1, 3, 'b', 'k'): <gurobi.Constr R1>}\n"
     ]
    }
   ],
   "source": [
    "c = m.addConstrs((x[i,j,n,m] <= 1 for i,j,n,m in l.select('*','*',['a','b'],'*')))\n",
    "m.update()\n",
    "print(m)\n",
    "print(c)"
   ]
  },
  {
   "cell_type": "markdown",
   "metadata": {},
   "source": [
    "## Gurobi `tupledict`\n",
    "\n",
    "A `tupledic` is a sub-class of the Python `dict` class mainly designed to efficiently work with subsets of Gurobi variable objects. Being it a sub-class of `dict`, it inherits all methods of ordinary Python dictionaries. In addition, it provides methods for summing and multiplying that can be used to easily and concisely build linear expressions that include only a subset of the decision variables. \n",
    "\n",
    "In particular, a `tupledict` is a Python dict where the keys are stored as a Gurobi `tuplelist`, and where the values are typically Gurobi decision variables, that is [Var objects](https://www.gurobi.com/documentation/9.0/refman/py_var.html#pythonclass:Var). Objects of this class make it easier to build linear expressions which include sets of Gurobi variables, using the `tuplelist.select()` syntax and semantics. \n",
    "\n",
    "While you can build your own `tupledict`, the [`addVars` method](https://www.gurobi.com/documentation/9.0/refman/py_model_addvars.html#pythonmethod:Model.addVars) adds one Gurobi decision variable to the model for each tuple in the input argument(s) and returns a `tupledict` where the keys are the tuples provided, and the values are the decision variables."
   ]
  },
  {
   "cell_type": "code",
   "execution_count": 3,
   "metadata": {},
   "outputs": [
    {
     "name": "stdout",
     "output_type": "stream",
     "text": [
      "{(1, 2): <gurobi.Var x[1,2]>, (1, 3): <gurobi.Var x[1,3]>, (2, 3): <gurobi.Var x[2,3]>, (2, 4): <gurobi.Var x[2,4]>}\n",
      "<class 'gurobipy.tupledict'>\n"
     ]
    }
   ],
   "source": [
    "from gurobipy import *\n",
    "m = Model('our_model')\n",
    "# These are the tuples for which we want to create decision variables\n",
    "l = list([(1, 2), (1, 3), (2, 3), (2, 4)])\n",
    "# We add decision variables to the model. \n",
    "# This method returns a tupledic\n",
    "x = m.addVars(l, name=\"x\")\n",
    "m.update()\n",
    "# x will be a tupledict with one variable for each tuple in the list l\n",
    "print(x)\n",
    "print(type(x))"
   ]
  },
  {
   "cell_type": "markdown",
   "metadata": {},
   "source": [
    "The resulting dictionary has the following structure\n",
    "\n",
    "| Key           | Value          |\n",
    "| ------------- |:-------------: | \n",
    "| (1,2)         | $x_{1,2}$      |\n",
    "| (1,3)         | $x_{1,3}$      |\n",
    "| (2,3)         | $x_{2,3}$      |\n",
    "| (2,4)         |$x_{2,4}$       |\n",
    "\n",
    "The `tupledict` class has two methods worth of notice (see the documentation [here](https://www.gurobi.com/documentation/9.0/refman/py_tupledict.html)), namely `sum` and `prod` (in addition to a `select` method that works as for `tuplelist`).\n",
    "\n",
    "The [`sum` method](https://www.gurobi.com/documentation/9.0/refman/py_tupledict_sum.html) can be used to sum subsets of the decision variables defined by specific criteria. As an example we may wish to sum all decision variables which have $1$ as the first index, that is $x_{1,2}$ and $x_{1,3}$. We do this as follows"
   ]
  },
  {
   "cell_type": "code",
   "execution_count": 7,
   "metadata": {},
   "outputs": [
    {
     "name": "stdout",
     "output_type": "stream",
     "text": [
      "<gurobi.LinExpr: x[1,2] + x[1,3]>\n"
     ]
    }
   ],
   "source": [
    "expr = x.sum(1,'*')\n",
    "print(expr)"
   ]
  },
  {
   "cell_type": "markdown",
   "metadata": {},
   "source": [
    "The method sum will create a linear expression which sums the variables specified in the argument. Another example: sum all $x$ variables having $3$ as the second index"
   ]
  },
  {
   "cell_type": "code",
   "execution_count": 8,
   "metadata": {},
   "outputs": [
    {
     "name": "stdout",
     "output_type": "stream",
     "text": [
      "<gurobi.LinExpr: x[1,3] + x[2,3]>\n"
     ]
    }
   ],
   "source": [
    "expr = x.sum('*',3)\n",
    "print(expr)"
   ]
  },
  {
   "cell_type": "markdown",
   "metadata": {},
   "source": [
    "Note that when using the `sum` method all variables appear with a coefficient of $1$. For the cases when the variables have coefficients other than $1$ `tupledict` has the [`prod` method](https://www.gurobi.com/documentation/9.0/refman/py_tupledict_prod.html).  Coefficients are provided through a `dict` argument and are indexed using the same tuples as the `tupledict`. \n",
    "\n",
    "As an example, one can sum all decision variables multiplied by their coefficients"
   ]
  },
  {
   "cell_type": "code",
   "execution_count": 9,
   "metadata": {},
   "outputs": [
    {
     "name": "stdout",
     "output_type": "stream",
     "text": [
      "<gurobi.LinExpr: 3.0 x[1,2] + 5.2 x[1,3] + 1.8 x[2,3] + 7.2 x[2,4]>\n"
     ]
    }
   ],
   "source": [
    "coefficients = {(1, 2): 3, (1, 3): 5.2, (2, 3): 1.8, (2, 4):7.2}\n",
    "expr = x.prod(coefficients)\n",
    "print(expr)"
   ]
  },
  {
   "cell_type": "markdown",
   "metadata": {},
   "source": [
    "Also in this case we can select specific subsets of the variables. In this case the variables are specified after the coefficients"
   ]
  },
  {
   "cell_type": "code",
   "execution_count": 10,
   "metadata": {},
   "outputs": [
    {
     "name": "stdout",
     "output_type": "stream",
     "text": [
      "<gurobi.LinExpr: 3.0 x[1,2] + 5.2 x[1,3]>\n",
      "<gurobi.LinExpr: 7.2 x[2,4]>\n"
     ]
    }
   ],
   "source": [
    "expr1 = x.prod(coefficients,1,'*')\n",
    "print(expr1)\n",
    "expr2 = x.prod(coefficients,'*',4)\n",
    "print(expr2)"
   ]
  },
  {
   "cell_type": "markdown",
   "metadata": {},
   "source": [
    "Finally, notice that also the `addConstrs` method returns a `tupledict` which associates a constraint to each tuple of indices for which it is defined."
   ]
  },
  {
   "cell_type": "code",
   "execution_count": 1,
   "metadata": {},
   "outputs": [
    {
     "name": "stdout",
     "output_type": "stream",
     "text": [
      "Academic license - for non-commercial use only\n",
      "{'STO': <gurobi.Constr R0>, 'OSL': <gurobi.Constr R1>, 'BER': <gurobi.Constr R2>}\n",
      "<class 'gurobipy.tupledict'>\n"
     ]
    }
   ],
   "source": [
    "from gurobipy import *\n",
    "m = Model('our_model')\n",
    "# We create a dictionary of upper bounds and two sets of indices\n",
    "upper_bound = {'CPH':10,'AAR':20,'ALB':50,'ODE':21}\n",
    "cities_dk = ['CPH','AAR','ALB','ODE']\n",
    "cities_ud = ['STO','OSL','BER']\n",
    "# We create two sets of variables, namely x and y\n",
    "x = m.addVars(cities_dk,name = \"x\")\n",
    "y = m.addVars(cities_ud,name = \"y\")\n",
    "# The addConstrs method return a tupledict\n",
    "c = m.addConstrs(sum(x.select('*')) - y[j] <= 10 for j in cities_ud)\n",
    "m.update()\n",
    "print(c)\n",
    "print(type(c))"
   ]
  },
  {
   "cell_type": "markdown",
   "metadata": {},
   "source": [
    "## A complete example\n",
    "\n",
    "A set $\\mathcal{K}$ of commodities must be shipped from producers to warehouses located in different nodes of a network $\\mathcal{N}$ to satisfy given demand $D_{ik}$ (negative for warehouses, positive for producers). Each arc $(i,j)$ in the transportation network has a unit cost $C_{ijk}$ associated with it and with each product, and a total capacity $Q_{ij}$. The network contains only the arcs $\\set{A}$ between producers and warehouses. Let $x_{ijk}$ be the amount of product $k$ sent on arc $(i,j)$. Find the minimum cost shipment.\n",
    "\n",
    "The problem can be modeled as follows\n",
    "$$\\min \\sum_{(i,j)\\in\\mathcal{A}}\\sum_{k\\in\\mathcal{K}}C_{ijk}x_{ijk}$$\n",
    "$$\\sum_{k\\in\\mathcal{K}}x_{ijk}\\leq Q_{ij} \\qquad (i,j)\\in\\mathcal{A}$$\n",
    "$$\\sum_{j\\in\\mathcal{N}}x_{ijk}-\\sum_{j\\in\\mathcal{N}}x_{jik} = D_{ik} \\qquad i \\in\\mathcal{N}, k\\in\\mathcal{K}$$\n",
    "$$x_{ijk}\\geq 0$$"
   ]
  },
  {
   "cell_type": "code",
   "execution_count": 14,
   "metadata": {},
   "outputs": [
    {
     "name": "stdout",
     "output_type": "stream",
     "text": [
      "Optimize a model with 16 rows, 12 columns and 36 nonzeros\n",
      "Coefficient statistics:\n",
      "  Matrix range     [1e+00, 1e+00]\n",
      "  Objective range  [1e+01, 8e+01]\n",
      "  Bounds range     [0e+00, 0e+00]\n",
      "  RHS range        [1e+01, 1e+02]\n",
      "Presolve removed 16 rows and 12 columns\n",
      "Presolve time: 0.01s\n",
      "Presolve: All rows and columns removed\n",
      "Iteration    Objective       Primal Inf.    Dual Inf.      Time\n",
      "       0    5.5000000e+03   0.000000e+00   0.000000e+00      0s\n",
      "\n",
      "Solved in 0 iterations and 0.02 seconds\n",
      "Optimal objective  5.500000000e+03\n",
      "\n",
      "Total cost : 5500 \n",
      "\n",
      "Optimal flows for Pencils:\n",
      "Detroit -> Boston: 50\n",
      "Denver -> New York: 50\n",
      "Denver -> Seattle: 10\n",
      "\n",
      "Optimal flows for Pens:\n",
      "Detroit -> Boston: 30\n",
      "Detroit -> New York: 30\n",
      "Denver -> Boston: 10\n",
      "Denver -> Seattle: 30\n"
     ]
    }
   ],
   "source": [
    "from gurobipy import *\n",
    "# Data\n",
    "products = tuplelist(['Pencils', 'Pens'])\n",
    "nodes = tuplelist(['Detroit', 'Denver', 'Boston', 'New York', 'Seattle'])\n",
    "arcs = tuplelist([('Detroit', 'Boston'),\n",
    "                 ('Detroit', 'New York'),\n",
    "                 ('Detroit', 'Seattle'),\n",
    "                 ('Denver',  'Boston'),\n",
    "                 ('Denver',  'New York'),\n",
    "                 ('Denver',  'Seattle')])\n",
    "capacity = {\n",
    "    ('Detroit', 'Boston'):   100,\n",
    "    ('Detroit', 'New York'):  80,\n",
    "    ('Detroit', 'Seattle'):  120,\n",
    "    ('Denver',  'Boston'):   120,\n",
    "    ('Denver',  'New York'): 120,\n",
    "    ('Denver',  'Seattle'):  120}\n",
    "\n",
    "cost = {\n",
    "    ('Pencils', 'Detroit', 'Boston'):   10,\n",
    "    ('Pencils', 'Detroit', 'New York'): 20,\n",
    "    ('Pencils', 'Detroit', 'Seattle'):  60,\n",
    "    ('Pencils', 'Denver',  'Boston'):   40,\n",
    "    ('Pencils', 'Denver',  'New York'): 40,\n",
    "    ('Pencils', 'Denver',  'Seattle'):  30,\n",
    "    ('Pens',    'Detroit', 'Boston'):   20,\n",
    "    ('Pens',    'Detroit', 'New York'): 20,\n",
    "    ('Pens',    'Detroit', 'Seattle'):  80,\n",
    "    ('Pens',    'Denver',  'Boston'):   60,\n",
    "    ('Pens',    'Denver',  'New York'): 70,\n",
    "    ('Pens',    'Denver',  'Seattle'):  30}\n",
    "\n",
    "demand = {\n",
    "    ('Pencils', 'Detroit'):   50,\n",
    "    ('Pencils', 'Denver'):    60,\n",
    "    ('Pencils', 'Boston'):   -50,\n",
    "    ('Pencils', 'New York'): -50,\n",
    "    ('Pencils', 'Seattle'):  -10,\n",
    "    ('Pens',    'Detroit'):   60,\n",
    "    ('Pens',    'Denver'):    40,\n",
    "    ('Pens',    'Boston'):   -40,\n",
    "    ('Pens',    'New York'): -30,\n",
    "    ('Pens',    'Seattle'):  -30}\n",
    "\n",
    "# Model\n",
    "m = Model('flow')\n",
    "\n",
    "# Decision variables\n",
    "x = m.addVars(products,arcs,name = \"x\")\n",
    "\n",
    "# Objective function \n",
    "# Remember that in order to use prod the dictionary of coefficients must have the\n",
    "# same keys as the dictionary of variables\n",
    "expr = x.prod(cost)\n",
    "m.setObjective(expr, GRB.MINIMIZE)\n",
    "\n",
    "# Capacity constraints\n",
    "c1 = m.addConstrs((x.sum('*',i,j) <= capacity[i,j] for i,j in arcs),name=\"Cap\")\n",
    "\n",
    "# Demand constraints\n",
    "c2 = m.addConstrs((x.sum(k,i,'*') - x.sum(k,'*',i) == demand[k,i] for i in nodes for k in products),name=\"Dem\")\n",
    "\n",
    "m.optimize()\n",
    "\n",
    "if m.status == GRB.OPTIMAL:\n",
    "    print(\"\\nTotal cost : %g \" % m.ObjVal)\n",
    "    solution = m.getAttr('x', x)\n",
    "    for h in products:\n",
    "        print('\\nOptimal flows for %s:' % h)\n",
    "        for i, j in arcs:\n",
    "            if solution[h, i, j] > 0:\n",
    "                print('%s -> %s: %g' % (i, j, solution[h, i, j]))"
   ]
  },
  {
   "cell_type": "code",
   "execution_count": null,
   "metadata": {},
   "outputs": [],
   "source": []
  }
 ],
 "metadata": {
  "kernelspec": {
   "display_name": "Python 3",
   "language": "python",
   "name": "python3"
  },
  "language_info": {
   "codemirror_mode": {
    "name": "ipython",
    "version": 3
   },
   "file_extension": ".py",
   "mimetype": "text/x-python",
   "name": "python",
   "nbconvert_exporter": "python",
   "pygments_lexer": "ipython3",
   "version": "3.9.5"
  }
 },
 "nbformat": 4,
 "nbformat_minor": 2
}

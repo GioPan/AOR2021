{
 "cells": [
  {
   "cell_type": "markdown",
   "metadata": {},
   "source": [
    "# Modeling with Gurobi\n",
    "\n",
    "In this tutorial we will learn the basics about building and solving optimization models using the Python \n",
    "interface of Gurobi.\n",
    "In order to use Gurobi in your Python application it is necessary that your Python application knows where to find the Gurobi files. If you are in doubt read the instructions on Absalon for setting up Gurobi in your virtual environment. Once Gurobi has been added to the virtual environment we are ready to write a Python application that uses Gurobi.\n",
    "\n",
    "In this tutorial we will build the following optimization model.\n",
    "$$\\max  x +   y + 2 z$$\n",
    "$$ \\text{s.t.~} x + 2 y + 3 z \\leq 4$$\n",
    "$$ x +   y       \\geq 1 $$\n",
    "$$ x  \\in\\{0,1\\} $$\n",
    "$$ y, z \\geq 0$$\n",
    "\n",
    "\n",
    "To use Gurobi in a Python file we start with the following statement which gives our file access to the classes of the `gurobipy` package."
   ]
  },
  {
   "cell_type": "code",
   "execution_count": 1,
   "metadata": {},
   "outputs": [],
   "source": [
    "from gurobipy import *"
   ]
  },
  {
   "cell_type": "markdown",
   "metadata": {},
   "source": [
    "The first step consists of building an object of the class `Model`. This represents a container for the optimization problem we will build. To this model we will add variables, constraints and objective function."
   ]
  },
  {
   "cell_type": "code",
   "execution_count": 2,
   "metadata": {},
   "outputs": [
    {
     "name": "stdout",
     "output_type": "stream",
     "text": [
      "Academic license - for non-commercial use only - expires 2022-08-12\n",
      "Using license file /Library/gurobi912/gurobi.lic\n",
      "<gurobi.Model Continuous instance example_model: 0 constrs, 0 vars, No parameter changes>\n"
     ]
    }
   ],
   "source": [
    "# Create a new model\n",
    "m = Model(\"example_model\")\n",
    "print(m)"
   ]
  },
  {
   "cell_type": "markdown",
   "metadata": {},
   "source": [
    "`Model` is a Python class designed by Gurobi and `m` is an object, an instance, of the `Model` class (have a look at the [Python tutorial](./python_tutorial.ipynb) if you are unsure what a class is). As any class, it has a constructor (which we have just used to build the model `m`) and a number of method for interacting with objects. \n",
    "[The Python API details](https://www.gurobi.com/documentation/9.0/refman/py_model.html) page describes the class `Model` in greater details. **You should bookmark this page and familiarize with it as it will be your go-to reference when you are in doubt or when you want to learn more**. In what follows you should go back and forth between this tutorial and the Gurobi Python API to read the details about the methods used. Links to the methods will be provided.\n",
    "\n",
    "## Adding Variables\n",
    "\n",
    "Now that our model is created, we can use its methods to create the optimization problem, starting from the decision variables $x$, $y$ and $z$. We add variables using the [method `addVar()`](https://www.gurobi.com/documentation/9.0/refman/py_model_addvar.html). At the Python API you will see that this method accepts the following arguments:\n",
    "\n",
    "`addVar (lb=0.0, ub=GRB.INFINITY, obj=0.0, vtype=GRB.CONTINUOUS, name=\"\", column=None ) `\n",
    "\n",
    "Let us create the variable $x$, which is binary."
   ]
  },
  {
   "cell_type": "code",
   "execution_count": 3,
   "metadata": {},
   "outputs": [
    {
     "name": "stdout",
     "output_type": "stream",
     "text": [
      "<gurobi.Model Continuous instance example_model: 0 constrs, 0 vars, No parameter changes>\n",
      "<gurobi.Var *Awaiting Model Update*>\n"
     ]
    }
   ],
   "source": [
    "# Adding variable x\n",
    "x = m.addVar(vtype=GRB.BINARY,name = \"x\")\n",
    "print(m)\n",
    "print(x)"
   ]
  },
  {
   "cell_type": "markdown",
   "metadata": {},
   "source": [
    "Note two things. First, the model does not yet count the variable. We could call the method [`update`](https://www.gurobi.com/documentation/9.0/refman/py_model_update.html) or wait to add the objective and constraints, as those will automatically update the model. Second, the `addVar` method returns an object of the Gurobi [`Var` class](https://www.gurobi.com/documentation/9.0/refman/py_var.html) (the object `x` in our code) which represents decision variables and has its own methods and fiels. Let us add the other variables. "
   ]
  },
  {
   "cell_type": "code",
   "execution_count": 4,
   "metadata": {},
   "outputs": [
    {
     "name": "stdout",
     "output_type": "stream",
     "text": [
      "<gurobi.Model Continuous instance example_model: 0 constrs, 0 vars, No parameter changes>\n",
      "<gurobi.Var *Awaiting Model Update*>\n",
      "<gurobi.Var *Awaiting Model Update*>\n"
     ]
    }
   ],
   "source": [
    "y = m.addVar(name = \"y\")\n",
    "z = m.addVar(lb = 0.0, ub = GRB.INFINITY,vtype= GRB.CONTINUOUS, name = \"z\")\n",
    "print(m)\n",
    "print(y)\n",
    "print(z)"
   ]
  },
  {
   "cell_type": "markdown",
   "metadata": {},
   "source": [
    "Notice that both $y$ and $z$ are non-negative continuous variables, but they have been added in two different ways. This was an arbitrary choice, both methods produce the same result, since the arguments `lb`, `ub`, `vtype` have default to $0$, $\\infty$ and `GRB.CONTINUOUS`, respectively. The same result would be achieved passing any subset of these arguments. Finally, not that if we had to create multidimensional variables, the `Model` class has  [method addVars](https://www.gurobi.com/documentation/9.0/refman/py_model_addvars.html). We will get to that in a later tutorial. "
   ]
  },
  {
   "cell_type": "markdown",
   "metadata": {},
   "source": [
    "## Adding the Objective function\n",
    "\n",
    "Let us now add the objective function. We use the [method setObjective()](https://www.gurobi.com/documentation/9.0/refman/py_model_setobjective.html) which is specified as follows:\n",
    "\n",
    "`setObjective ( expr, sense=None ) `\n",
    "\n",
    "It taks as argument a linear expression, that is an object of the [class `LinExpr`](https://www.gurobi.com/documentation/9.0/refman/py_lex.html) and a sense, which can be either `GRB.MINIMIZE` or `GRB.MAXIMIZE`. Objects of the class `LinExpr` represent linear expressions of the decision variables. They are very easy to create: we just do operations with the decision variables. "
   ]
  },
  {
   "cell_type": "code",
   "execution_count": 5,
   "metadata": {},
   "outputs": [],
   "source": [
    "expr = x + y + 2 *z"
   ]
  },
  {
   "cell_type": "markdown",
   "metadata": {},
   "source": [
    "Alternatively we could write the same code as follows"
   ]
  },
  {
   "cell_type": "code",
   "execution_count": 6,
   "metadata": {},
   "outputs": [],
   "source": [
    "expr = 0 \n",
    "expr += x\n",
    "expr += y\n",
    "expr += 2 * z"
   ]
  },
  {
   "cell_type": "markdown",
   "metadata": {},
   "source": [
    "The we pass the objective to the optimization model with the instruction to maximize it"
   ]
  },
  {
   "cell_type": "code",
   "execution_count": 7,
   "metadata": {},
   "outputs": [
    {
     "name": "stdout",
     "output_type": "stream",
     "text": [
      "<gurobi.Model Continuous instance example_model: 0 constrs, 0 vars, No parameter changes>\n"
     ]
    }
   ],
   "source": [
    "m.setObjective(expr,GRB.MAXIMIZE)\n",
    "print(m)"
   ]
  },
  {
   "cell_type": "markdown",
   "metadata": {},
   "source": [
    "Notice that if we call the method `update()` we see that the model has three decision variables."
   ]
  },
  {
   "cell_type": "code",
   "execution_count": 8,
   "metadata": {},
   "outputs": [
    {
     "name": "stdout",
     "output_type": "stream",
     "text": [
      "<gurobi.Model MIP instance example_model: 0 constrs, 3 vars, No parameter changes>\n"
     ]
    }
   ],
   "source": [
    "m.update()\n",
    "print(m)"
   ]
  },
  {
   "cell_type": "markdown",
   "metadata": {},
   "source": [
    "## Adding Constraints\n",
    "\n",
    "To add constraints we proceed similarly to what we have seen for the objective function. First, we create a linear expression and then we pass it to the [method addConstr()](https://www.gurobi.com/documentation/9.0/refman/py_model_addconstr.html). The method is specified as follows\n",
    "\n",
    "`addConstr ( lhs, sense=None, rhs=None, name=\"\" ) `\n",
    "\n",
    "it takes a left-hand-side and a right-hand side expression (again objects of the [class LinExpr](https://www.gurobi.com/documentation/9.0/refman/py_lex.html)), a sense among `GRB.LESS_EQUAL`, `GRB.EQUAL`, or `GRB.GREATER_EQUAL`, and a name. Nevertheless, only the `lhs` expression is necessary. In fact, we can use the operators `==`, `<= ` and `>=` to create constraints. We will use both ways in this example. Let us create the first constraint"
   ]
  },
  {
   "cell_type": "code",
   "execution_count": 9,
   "metadata": {},
   "outputs": [
    {
     "name": "stdout",
     "output_type": "stream",
     "text": [
      "<gurobi.Model MIP instance example_model: 1 constrs, 3 vars, No parameter changes>\n"
     ]
    }
   ],
   "source": [
    "expr = x + 2 * y + 3* z\n",
    "m.addConstr(expr, GRB.LESS_EQUAL,4,'c1')\n",
    "m.update()\n",
    "print(m)"
   ]
  },
  {
   "cell_type": "markdown",
   "metadata": {},
   "source": [
    "Let us add the second constraint in a more compact way"
   ]
  },
  {
   "cell_type": "code",
   "execution_count": 10,
   "metadata": {},
   "outputs": [],
   "source": [
    "m.addConstr( x+y >= 1,'c2')\n",
    "m.update()"
   ]
  },
  {
   "cell_type": "markdown",
   "metadata": {},
   "source": [
    "A convenience method is the [method `write()`](https://www.gurobi.com/documentation/9.0/refman/py_model_write.html) of the `Model` class. It can print the model in a human readable way and help us understand whether we made any mistakes."
   ]
  },
  {
   "cell_type": "code",
   "execution_count": 13,
   "metadata": {},
   "outputs": [],
   "source": [
    "m.write(\"model.lp\")"
   ]
  },
  {
   "cell_type": "markdown",
   "metadata": {},
   "source": [
    "The code above creates a file named \"model.lp\" which looks like the following"
   ]
  },
  {
   "cell_type": "markdown",
   "metadata": {},
   "source": [
    "\\ Model example_model\n",
    "\\ LP format - for model browsing. Use MPS format to capture full model detail.\n",
    "Maximize\n",
    "  x + y + 2 z\n",
    "Subject To\n",
    " c1: x + 2 y + 3 z <= 4\n",
    " c2: x + y >= 1\n",
    "Bounds\n",
    "Binaries\n",
    " x\n",
    "End\n"
   ]
  },
  {
   "cell_type": "markdown",
   "metadata": {},
   "source": [
    "## Solving the problem and accessing the solution\n",
    "\n",
    "Finally we can solve our optimization problem "
   ]
  },
  {
   "cell_type": "code",
   "execution_count": 14,
   "metadata": {},
   "outputs": [
    {
     "name": "stdout",
     "output_type": "stream",
     "text": [
      "Gurobi Optimizer version 9.1.2 build v9.1.2rc0 (mac64)\n",
      "Thread count: 2 physical cores, 4 logical processors, using up to 4 threads\n",
      "Optimize a model with 2 rows, 3 columns and 5 nonzeros\n",
      "Model fingerprint: 0xcdfdeb50\n",
      "Variable types: 2 continuous, 1 integer (1 binary)\n",
      "Coefficient statistics:\n",
      "  Matrix range     [1e+00, 3e+00]\n",
      "  Objective range  [1e+00, 2e+00]\n",
      "  Bounds range     [1e+00, 1e+00]\n",
      "  RHS range        [1e+00, 4e+00]\n",
      "Found heuristic solution: objective 2.5000000\n",
      "Presolve removed 2 rows and 3 columns\n",
      "Presolve time: 0.02s\n",
      "Presolve: All rows and columns removed\n",
      "\n",
      "Explored 0 nodes (0 simplex iterations) in 0.06 seconds\n",
      "Thread count was 1 (of 4 available processors)\n",
      "\n",
      "Solution count 2: 3 2.5 \n",
      "\n",
      "Optimal solution found (tolerance 1.00e-04)\n",
      "Best objective 3.000000000000e+00, best bound 3.000000000000e+00, gap 0.0000%\n"
     ]
    }
   ],
   "source": [
    "m.optimize()"
   ]
  },
  {
   "cell_type": "markdown",
   "metadata": {},
   "source": [
    "The `Model` class and `Var` class have several methods to access solution information. \n",
    "For example, we can access the optimal objective value as follows"
   ]
  },
  {
   "cell_type": "code",
   "execution_count": 15,
   "metadata": {},
   "outputs": [
    {
     "name": "stdout",
     "output_type": "stream",
     "text": [
      "Objective value: 3\n"
     ]
    }
   ],
   "source": [
    "print('Objective value: %g' % m.objVal)"
   ]
  },
  {
   "cell_type": "markdown",
   "metadata": {},
   "source": [
    "and the optimal solution using the `.x` field of `Var` objects which stores the optimal value of a decision variable."
   ]
  },
  {
   "cell_type": "code",
   "execution_count": 16,
   "metadata": {},
   "outputs": [
    {
     "name": "stdout",
     "output_type": "stream",
     "text": [
      "x 1\n",
      "y 0\n",
      "z 1\n"
     ]
    }
   ],
   "source": [
    "print('%s %g' % (x.varName, x.x))\n",
    "print('%s %g' % (y.varName, y.x))\n",
    "print('%s %g' % (z.varName, z.x))"
   ]
  },
  {
   "cell_type": "code",
   "execution_count": null,
   "metadata": {},
   "outputs": [],
   "source": []
  }
 ],
 "metadata": {
  "kernelspec": {
   "display_name": "Python 3 (ipykernel)",
   "language": "python",
   "name": "python3"
  },
  "language_info": {
   "codemirror_mode": {
    "name": "ipython",
    "version": 3
   },
   "file_extension": ".py",
   "mimetype": "text/x-python",
   "name": "python",
   "nbconvert_exporter": "python",
   "pygments_lexer": "ipython3",
   "version": "3.9.5"
  }
 },
 "nbformat": 4,
 "nbformat_minor": 2
}

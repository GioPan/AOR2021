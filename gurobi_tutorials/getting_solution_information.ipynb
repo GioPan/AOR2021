{
 "cells": [
  {
   "cell_type": "markdown",
   "metadata": {},
   "source": [
    "# Getting solution information\n",
    "\n",
    "In this tutorial we will see how to extract information from an optimization model, such as solution information. Gurobi has organized this information in so called *attributes*. Each component of an optimization model, i.e., the [Model object](https://www.gurobi.com/documentation/9.0/refman/py_model.html), the [variables objects](https://www.gurobi.com/documentation/9.0/refman/py_var.html) and the [constraints objects](https://www.gurobi.com/documentation/9.0/refman/py_constr.html) are provided with a method called `getAttr` which can be used to query their specific attributes, corresponding to solution and model information. A central exercise is thus that of understanding which attributes can be queried from each object. The full list of attributes for each object is provided in the Gurobi documentation [here](https://www.gurobi.com/documentation/9.0/refman/attributes.html#sec:Attributes). This page should be kept at hand when working with optimization models."
   ]
  },
  {
   "cell_type": "markdown",
   "metadata": {},
   "source": [
    "## An example model\n",
    "\n",
    "In this tutorial we will consider the classical diet problem. The miminum cost diet is to be found in order to satisfy the daily requirement $R_n$ of a set $\\mathcal{N}$ of nutrients such as proteins and vitamins. A set $\\mathcal{F}$ of foods are considered. Each food has a cost of $C_f$ per unit (e.g., per gram) and provides an amount $A_{fn}$ of nutrient $n$. Let $x_f$ be the quantity of food $f$ included in the daily diet. The problem can be formulated as follows\n",
    "$$\\min \\sum_{f\\in\\mathcal{F}}C_{f}x_{f}$$\n",
    "$$\\sum_{f\\in\\mathcal{F}}A_{fn}x_{f} = R_n \\qquad \\forall n \\in\\mathcal{N}$$\n",
    "$$x_{f}\\geq 0 \\qquad \\forall f\\in\\mathcal{F}$$\n"
   ]
  },
  {
   "cell_type": "code",
   "execution_count": 1,
   "metadata": {},
   "outputs": [
    {
     "name": "stdout",
     "output_type": "stream",
     "text": [
      "Academic license - for non-commercial use only - expires 2022-08-12\n",
      "Using license file /Library/gurobi912/gurobi.lic\n",
      "Gurobi Optimizer version 9.1.2 build v9.1.2rc0 (mac64)\n",
      "Thread count: 2 physical cores, 4 logical processors, using up to 4 threads\n",
      "Optimize a model with 3 rows, 5 columns and 14 nonzeros\n",
      "Model fingerprint: 0x7f86c67d\n",
      "Coefficient statistics:\n",
      "  Matrix range     [2e-01, 1e+01]\n",
      "  Objective range  [3e+00, 2e+01]\n",
      "  Bounds range     [0e+00, 0e+00]\n",
      "  RHS range        [1e+01, 7e+01]\n",
      "Presolve removed 0 rows and 1 columns\n",
      "Presolve time: 0.02s\n",
      "Presolved: 3 rows, 4 columns, 11 nonzeros\n",
      "\n",
      "Iteration    Objective       Primal Inf.    Dual Inf.      Time\n",
      "       0    0.0000000e+00   2.825000e+01   0.000000e+00      0s\n",
      "       3    1.3131148e+02   0.000000e+00   0.000000e+00      0s\n",
      "\n",
      "Solved in 3 iterations and 0.04 seconds\n",
      "Optimal objective  1.313114754e+02\n"
     ]
    }
   ],
   "source": [
    "from gurobipy import *\n",
    "# Data\n",
    "foods = ['apples', 'bananas', 'carrots', 'dates','eggs']\n",
    "nutrients = ['proteins','vitamin_c','iron']\n",
    "cost = {'apples':8, 'bananas':10, 'carrots':3, 'dates':20,'eggs':15}\n",
    "composition = {('apples','proteins'):0.4, \n",
    "               ('apples','vitamin_c'):6, \n",
    "               ('apples','iron'):0.4, \n",
    "               ('bananas','proteins'):1.2, \n",
    "               ('bananas','vitamin_c'):10, \n",
    "               ('bananas','iron'):0.6,\n",
    "               ('carrots','proteins'):0.6, \n",
    "               ('carrots','vitamin_c'):3, \n",
    "               ('carrots','iron'):0.4,\n",
    "               ('dates','proteins'):0.6, \n",
    "               ('dates','vitamin_c'):1, \n",
    "               ('dates','iron'):0.2,\n",
    "               ('eggs','proteins'):12.2, \n",
    "               ('eggs','vitamin_c'):0, \n",
    "               ('eggs','iron'):2.6\n",
    "              }\n",
    "requirements = {'proteins':70,'vitamin_c':60,'iron':12}\n",
    "# Model\n",
    "m = Model('diet_problem')\n",
    "x = m.addVars(foods,name = 'x')\n",
    "expr = x.prod(cost)\n",
    "m.setObjective(expr,GRB.MINIMIZE)\n",
    "const = m.addConstrs((quicksum([composition[f,n] * x[f] for f in foods]) >= requirements[n] for n in nutrients), 'nutri')\n",
    "# Solving the model\n",
    "m.optimize()"
   ]
  },
  {
   "cell_type": "markdown",
   "metadata": {},
   "source": [
    "Now that we have a model and have solved it, let us extract some information."
   ]
  },
  {
   "cell_type": "markdown",
   "metadata": {},
   "source": [
    "## Retrieving information from the Model\n",
    "\n",
    "Let us start by having a look at some of the most important attributes of the `Model` object.\n",
    "First of all, in the documentation you can see that the `Model` object has a [method `getAttr`](https://www.gurobi.com/documentation/9.0/refman/py_model_getattr.html). This method can be used to query information about the model as well as information about sets of decision variables and constraints. Let us see some examples (keep the [list of attributes](https://www.gurobi.com/documentation/9.0/refman/attributes.html#sec:Attributes) at hand)."
   ]
  },
  {
   "cell_type": "code",
   "execution_count": 2,
   "metadata": {},
   "outputs": [
    {
     "name": "stdout",
     "output_type": "stream",
     "text": [
      "The model has  5  decision variables\n",
      "The model has  3  constraints\n",
      "The model has  0  integer variables\n",
      "The model has  0  binary variables\n"
     ]
    }
   ],
   "source": [
    "# Information about the size of the model\n",
    "print(\"The model has \", m.getAttr('NumVars'),\" decision variables\")\n",
    "print(\"The model has \", m.getAttr('NumConstrs'),\" constraints\")\n",
    "print(\"The model has \", m.getAttr('NumIntVars'),\" integer variables\")\n",
    "print(\"The model has \", m.getAttr('NumBinVars'),\" binary variables\")"
   ]
  },
  {
   "cell_type": "code",
   "execution_count": 3,
   "metadata": {},
   "outputs": [
    {
     "name": "stdout",
     "output_type": "stream",
     "text": [
      "Best objective value  131.31147540983608\n",
      "Best bound  131.31147540983608\n"
     ]
    }
   ],
   "source": [
    "# The objective value for the current solution. \n",
    "# If the model was solved to optimality, then this attribute gives the optimal objective value. \n",
    "print(\"Best objective value \",m.getAttr('ObjVal'))\n",
    "\n",
    "# The best available bound (lower bound for minimization problems, upper bound for maximization problems)\n",
    "print(\"Best bound \",m.getAttr('ObjBound'))"
   ]
  },
  {
   "cell_type": "code",
   "execution_count": 4,
   "metadata": {},
   "outputs": [
    {
     "name": "stdout",
     "output_type": "stream",
     "text": [
      "Solution time =  0.04436779022216797  seconds\n"
     ]
    }
   ],
   "source": [
    "# How long did it take to solve the problem?\n",
    "print(\"Solution time = \",m.getAttr('Runtime'),\" seconds\")"
   ]
  },
  {
   "cell_type": "code",
   "execution_count": 5,
   "metadata": {},
   "outputs": [
    {
     "name": "stdout",
     "output_type": "stream",
     "text": [
      "Status =  2\n"
     ]
    }
   ],
   "source": [
    "# What is the final status of the optimization algorithm?\n",
    "print('Status = ',m.getAttr('Status'))"
   ]
  },
  {
   "cell_type": "markdown",
   "metadata": {},
   "source": [
    "A status of 2 corresponds to optimal. The statuses are discussed [here](https://www.gurobi.com/documentation/9.0/refman/optimization_status_codes.html#sec:StatusCodes) "
   ]
  },
  {
   "cell_type": "code",
   "execution_count": 6,
   "metadata": {},
   "outputs": [
    {
     "name": "stdout",
     "output_type": "stream",
     "text": [
      "# Simplex iterations =  3.0\n"
     ]
    }
   ],
   "source": [
    "# How many simplex iterations did it perform?\n",
    "print(\"# Simplex iterations = \",m.getAttr('IterCount'))"
   ]
  },
  {
   "cell_type": "markdown",
   "metadata": {},
   "source": [
    "As you can notice, in the list of attributes there are attributes which make sense only if the problem solved is a linear program (e.g., the number of Simplex iterations) and other that make sense only if the problem is a MIP (e.g., number of branch and bound nodes explored). In fact, if we query the a MIP attribute from an LP we get an error."
   ]
  },
  {
   "cell_type": "code",
   "execution_count": 14,
   "metadata": {},
   "outputs": [
    {
     "ename": "AttributeError",
     "evalue": "b\"Unable to retrieve attribute 'MIPGap'\"",
     "output_type": "error",
     "traceback": [
      "\u001b[0;31m---------------------------------------------------------------------------\u001b[0m",
      "\u001b[0;31mAttributeError\u001b[0m                            Traceback (most recent call last)",
      "\u001b[0;32m<ipython-input-14-dc5a9703e49d>\u001b[0m in \u001b[0;36m<module>\u001b[0;34m\u001b[0m\n\u001b[0;32m----> 1\u001b[0;31m \u001b[0mprint\u001b[0m\u001b[0;34m(\u001b[0m\u001b[0;34m\"# Nodes explored = \"\u001b[0m\u001b[0;34m,\u001b[0m\u001b[0mm\u001b[0m\u001b[0;34m.\u001b[0m\u001b[0mgetAttr\u001b[0m\u001b[0;34m(\u001b[0m\u001b[0;34m'MIPGap'\u001b[0m\u001b[0;34m)\u001b[0m\u001b[0;34m)\u001b[0m\u001b[0;34m\u001b[0m\u001b[0;34m\u001b[0m\u001b[0m\n\u001b[0m",
      "\u001b[0;32mmodel.pxi\u001b[0m in \u001b[0;36mgurobipy.Model.getAttr\u001b[0;34m()\u001b[0m\n",
      "\u001b[0;32mmodel.pxi\u001b[0m in \u001b[0;36mgurobipy.Model.__gettypedattr\u001b[0;34m()\u001b[0m\n",
      "\u001b[0;31mAttributeError\u001b[0m: b\"Unable to retrieve attribute 'MIPGap'\""
     ]
    }
   ],
   "source": [
    "print(\"# Nodes explored = \",m.getAttr('MIPGap'))"
   ]
  },
  {
   "cell_type": "markdown",
   "metadata": {},
   "source": [
    "The `getAttr` method of the model object can also be used to retrieve primal and dual solution information. \n",
    "For example, we can use the method to query the optimal value of the decision variables (provided by the attribute `'x'`). In this case, we pass two arguments: the attribute name (`'x'`) and the `tupledict` of decision variables (in this case `x`). It returns a `tupledict` with the optimal value of the decision variable at each key."
   ]
  },
  {
   "cell_type": "code",
   "execution_count": 21,
   "metadata": {},
   "outputs": [
    {
     "name": "stdout",
     "output_type": "stream",
     "text": [
      "{'apples': 0.0, 'bananas': 0.0, 'carrots': 20.0, 'dates': 0.0, 'eggs': 4.754098360655738}\n",
      "<class 'gurobipy.tupledict'>\n"
     ]
    }
   ],
   "source": [
    "solution = m.getAttr('x',x)\n",
    "print(solution)\n",
    "print(type(solution))"
   ]
  },
  {
   "cell_type": "markdown",
   "metadata": {},
   "source": [
    "Other examples of attributes on the decision variables are"
   ]
  },
  {
   "cell_type": "code",
   "execution_count": 22,
   "metadata": {},
   "outputs": [
    {
     "name": "stdout",
     "output_type": "stream",
     "text": [
      "{'apples': 0.0, 'bananas': 0.0, 'carrots': 0.0, 'dates': 0.0, 'eggs': 0.0}\n",
      "{'apples': 1e+100, 'bananas': 1e+100, 'carrots': 1e+100, 'dates': 1e+100, 'eggs': 1e+100}\n",
      "{'apples': 'C', 'bananas': 'C', 'carrots': 'C', 'dates': 'C', 'eggs': 'C'}\n",
      "{'apples': 'x[apples]', 'bananas': 'x[bananas]', 'carrots': 'x[carrots]', 'dates': 'x[dates]', 'eggs': 'x[eggs]'}\n"
     ]
    }
   ],
   "source": [
    "print(m.getAttr('LB',x))\n",
    "print(m.getAttr('UB',x))\n",
    "print(m.getAttr('VType',x))\n",
    "print(m.getAttr('VarName',x))"
   ]
  },
  {
   "cell_type": "markdown",
   "metadata": {},
   "source": [
    "Similarly, we can obtain information on the constraints. The most useful is perhaps the optimal value of the corresponding dual variable. This is given by attribute `'Pi'`. In this case, we pass a `tupledict` of constraints as the second argument."
   ]
  },
  {
   "cell_type": "code",
   "execution_count": 23,
   "metadata": {},
   "outputs": [
    {
     "name": "stdout",
     "output_type": "stream",
     "text": [
      "{'proteins': 1.2295081967213115, 'vitamin_c': 0.7540983606557377, 'iron': 0.0}\n"
     ]
    }
   ],
   "source": [
    "dual_solution = m.getAttr('Pi',const)\n",
    "print(dual_solution)"
   ]
  },
  {
   "cell_type": "markdown",
   "metadata": {},
   "source": [
    "## Retrieving information from the variables and constraints\n",
    "\n",
    "The attributes of the variables and constraints which we have queried from the model in a aggregate manner, can also be queried on individual variables and constraints."
   ]
  },
  {
   "cell_type": "code",
   "execution_count": 28,
   "metadata": {},
   "outputs": [
    {
     "name": "stdout",
     "output_type": "stream",
     "text": [
      "x[apples]  =  0.0\n",
      "x[bananas]  =  0.0\n",
      "x[carrots]  =  20.0\n",
      "x[dates]  =  0.0\n",
      "x[eggs]  =  4.754098360655738\n",
      "nutri[proteins]  =  1.2295081967213115\n",
      "nutri[vitamin_c]  =  0.7540983606557377\n",
      "nutri[iron]  =  0.0\n"
     ]
    }
   ],
   "source": [
    "for food in foods:\n",
    "    print(x[food].getAttr('VarName'), \" = \" , x[food].getAttr('x'))\n",
    "    \n",
    "for n in nutrients:\n",
    "    print(const[n].getAttr('ConstrName'), \" = \" , const[n].getAttr('Pi'))"
   ]
  },
  {
   "cell_type": "markdown",
   "metadata": {},
   "source": [
    "## Shortcuts\n",
    "\n",
    "Finally, notice that the value of all attributes can be queried directly from the `Model`, `Var` and `Constr` objects.  For example, the following statements are equivalent."
   ]
  },
  {
   "cell_type": "code",
   "execution_count": 32,
   "metadata": {},
   "outputs": [
    {
     "name": "stdout",
     "output_type": "stream",
     "text": [
      "131.31147540983608  is equal to  131.31147540983608\n",
      "0.07843708992004395  is equal to  0.07843708992004395\n",
      "0.0  is equal to  0.0\n",
      "0.0  is equal to  0.0\n",
      "20.0  is equal to  20.0\n",
      "0.0  is equal to  0.0\n",
      "4.754098360655738  is equal to  4.754098360655738\n",
      "1.2295081967213115  is equal to  1.2295081967213115\n",
      "0.7540983606557377  is equal to  0.7540983606557377\n",
      "0.0  is equal to  0.0\n"
     ]
    }
   ],
   "source": [
    "print(m.getAttr('ObjVal'), \" is equal to \", m.ObjVal)\n",
    "print(m.getAttr('Runtime'), \" is equal to \", m.Runtime)\n",
    "for food in foods:\n",
    "    print(x[food].getAttr('x'), \" is equal to \" , x[food].x)\n",
    "    \n",
    "for n in nutrients:\n",
    "    print(const[n].getAttr('Pi'), \" is equal to \" , const[n].Pi)"
   ]
  },
  {
   "cell_type": "code",
   "execution_count": null,
   "metadata": {},
   "outputs": [],
   "source": []
  }
 ],
 "metadata": {
  "kernelspec": {
   "display_name": "Python 3",
   "language": "python",
   "name": "python3"
  },
  "language_info": {
   "codemirror_mode": {
    "name": "ipython",
    "version": 3
   },
   "file_extension": ".py",
   "mimetype": "text/x-python",
   "name": "python",
   "nbconvert_exporter": "python",
   "pygments_lexer": "ipython3",
   "version": "3.9.5"
  }
 },
 "nbformat": 4,
 "nbformat_minor": 2
}
